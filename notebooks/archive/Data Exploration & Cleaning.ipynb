{
 "cells": [
  {
   "cell_type": "markdown",
   "metadata": {},
   "source": [
    "# Data Exploration"
   ]
  },
  {
   "cell_type": "code",
   "execution_count": 1,
   "metadata": {},
   "outputs": [],
   "source": [
    "RGR.Raw <- data.frame(read.csv(\"C:/Users/jodyn/OneDrive/Github/Trait-Performance-Relationships/data/RGR.csv\"))\n",
    "MSH.Raw <- data.frame(read.csv(\"C:/Users/jodyn/OneDrive/Github/Trait-Performance-Relationships/data/MSH all data_July2015.csv\"))"
   ]
  },
  {
   "cell_type": "code",
   "execution_count": 2,
   "metadata": {},
   "outputs": [
    {
     "data": {
      "text/html": [
       "<table>\n",
       "<thead><tr><th scope=col>SampleID</th><th scope=col>BA.0.2006</th><th scope=col>BA.0.2007</th><th scope=col>BA.0.2008</th><th scope=col>BA.0.2009</th><th scope=col>BA.0.2010</th><th scope=col>BA.0.2011</th></tr></thead>\n",
       "<tbody>\n",
       "\t<tr><td>J10ACSA19</td><td>12.018423</td><td>       NA</td><td>       NA</td><td>       NA</td><td>       NA</td><td>12.437202</td></tr>\n",
       "\t<tr><td>J10AMSP12</td><td>11.916452</td><td>12.604177</td><td>13.434528</td><td>14.603302</td><td>15.698010</td><td>16.527046</td></tr>\n",
       "\t<tr><td>J10AMSP13</td><td> 4.978399</td><td> 5.334679</td><td> 5.961424</td><td> 6.940494</td><td> 8.224628</td><td> 9.186387</td></tr>\n",
       "\t<tr><td>J10FAG15 </td><td> 6.611162</td><td> 7.442033</td><td> 8.581504</td><td> 9.681168</td><td>10.510053</td><td>11.293637</td></tr>\n",
       "\t<tr><td>J10FRA19 </td><td>10.509488</td><td>10.799639</td><td>11.158824</td><td>11.554593</td><td>12.002439</td><td>12.548089</td></tr>\n",
       "\t<tr><td>J10OSV19 </td><td> 1.857446</td><td> 2.135612</td><td> 2.383083</td><td> 2.551090</td><td> 2.824035</td><td> 3.094184</td></tr>\n",
       "</tbody>\n",
       "</table>\n"
      ],
      "text/latex": [
       "\\begin{tabular}{r|lllllll}\n",
       " SampleID & BA.0.2006 & BA.0.2007 & BA.0.2008 & BA.0.2009 & BA.0.2010 & BA.0.2011\\\\\n",
       "\\hline\n",
       "\t J10ACSA19 & 12.018423 &        NA &        NA &        NA &        NA & 12.437202\\\\\n",
       "\t J10AMSP12 & 11.916452 & 12.604177 & 13.434528 & 14.603302 & 15.698010 & 16.527046\\\\\n",
       "\t J10AMSP13 &  4.978399 &  5.334679 &  5.961424 &  6.940494 &  8.224628 &  9.186387\\\\\n",
       "\t J10FAG15  &  6.611162 &  7.442033 &  8.581504 &  9.681168 & 10.510053 & 11.293637\\\\\n",
       "\t J10FRA19  & 10.509488 & 10.799639 & 11.158824 & 11.554593 & 12.002439 & 12.548089\\\\\n",
       "\t J10OSV19  &  1.857446 &  2.135612 &  2.383083 &  2.551090 &  2.824035 &  3.094184\\\\\n",
       "\\end{tabular}\n"
      ],
      "text/markdown": [
       "\n",
       "| SampleID | BA.0.2006 | BA.0.2007 | BA.0.2008 | BA.0.2009 | BA.0.2010 | BA.0.2011 |\n",
       "|---|---|---|---|---|---|---|\n",
       "| J10ACSA19 | 12.018423 |        NA |        NA |        NA |        NA | 12.437202 |\n",
       "| J10AMSP12 | 11.916452 | 12.604177 | 13.434528 | 14.603302 | 15.698010 | 16.527046 |\n",
       "| J10AMSP13 |  4.978399 |  5.334679 |  5.961424 |  6.940494 |  8.224628 |  9.186387 |\n",
       "| J10FAG15  |  6.611162 |  7.442033 |  8.581504 |  9.681168 | 10.510053 | 11.293637 |\n",
       "| J10FRA19  | 10.509488 | 10.799639 | 11.158824 | 11.554593 | 12.002439 | 12.548089 |\n",
       "| J10OSV19  |  1.857446 |  2.135612 |  2.383083 |  2.551090 |  2.824035 |  3.094184 |\n",
       "\n"
      ],
      "text/plain": [
       "  SampleID  BA.0.2006 BA.0.2007 BA.0.2008 BA.0.2009 BA.0.2010 BA.0.2011\n",
       "1 J10ACSA19 12.018423        NA        NA        NA        NA 12.437202\n",
       "2 J10AMSP12 11.916452 12.604177 13.434528 14.603302 15.698010 16.527046\n",
       "3 J10AMSP13  4.978399  5.334679  5.961424  6.940494  8.224628  9.186387\n",
       "4 J10FAG15   6.611162  7.442033  8.581504  9.681168 10.510053 11.293637\n",
       "5 J10FRA19  10.509488 10.799639 11.158824 11.554593 12.002439 12.548089\n",
       "6 J10OSV19   1.857446  2.135612  2.383083  2.551090  2.824035  3.094184"
      ]
     },
     "metadata": {},
     "output_type": "display_data"
    }
   ],
   "source": [
    "# what do these  data look like?\n",
    "head(RGR.Raw)"
   ]
  },
  {
   "cell_type": "code",
   "execution_count": 3,
   "metadata": {},
   "outputs": [
    {
     "data": {
      "text/html": [
       "395"
      ],
      "text/latex": [
       "395"
      ],
      "text/markdown": [
       "395"
      ],
      "text/plain": [
       "[1] 395"
      ]
     },
     "metadata": {},
     "output_type": "display_data"
    }
   ],
   "source": [
    "nrow(RGR.Raw)"
   ]
  },
  {
   "cell_type": "code",
   "execution_count": 4,
   "metadata": {},
   "outputs": [
    {
     "data": {
      "text/html": [
       "<table>\n",
       "<thead><tr><th scope=col>Sample.ID</th><th scope=col>Height.DBH.Ratio</th><th scope=col>Estem</th><th scope=col>Etwig</th><th scope=col>Branching.Distance</th><th scope=col>Twig.Diameter</th><th scope=col>Twig.Wood.Density</th><th scope=col>Stem.Wood.Density</th><th scope=col>Leaf.Mass.Fraction</th><th scope=col>Leaf.Area</th><th scope=col>...</th><th scope=col>Leaf.Thickness</th><th scope=col>Leaf.Density</th><th scope=col>C.N</th><th scope=col>C.P</th><th scope=col>N.P</th><th scope=col>Kl</th><th scope=col>Kleaf</th><th scope=col>Biomass1</th><th scope=col>pcent.max.Bio1</th><th scope=col>Total.Transmitted.Light</th></tr></thead>\n",
       "<tbody>\n",
       "\t<tr><td>J10ACSA19 </td><td>120.00000 </td><td>2807.719  </td><td>368.4968  </td><td>16.750000 </td><td>5.440     </td><td>0.6568855 </td><td>0.7900303 </td><td>0.8552028 </td><td> 43.42781 </td><td>...       </td><td>0.0938    </td><td>0.3864892 </td><td>25.47644  </td><td>5.815661  </td><td>0.2282760 </td><td> 453.3973 </td><td>0.2043562 </td><td>0.06979659</td><td>0.00645662</td><td>2.425     </td></tr>\n",
       "\t<tr><td>J10AMSP12 </td><td> 98.29268 </td><td>2012.670  </td><td>539.4002  </td><td> 8.000000 </td><td>4.395     </td><td>0.6276060 </td><td>0.8900391 </td><td>1.0007017 </td><td> 13.62967 </td><td>...       </td><td>0.1218    </td><td>0.3794966 </td><td>18.72918  </td><td>4.112673  </td><td>0.2195864 </td><td> 306.8134 </td><td>0.7228903 </td><td>0.82903646</td><td>0.22745817</td><td>3.890     </td></tr>\n",
       "\t<tr><td>J10AMSP13 </td><td>160.66667 </td><td>7055.698  </td><td>378.0921  </td><td>11.368421 </td><td>5.400     </td><td>0.6641150 </td><td>0.8772109 </td><td>0.6397234 </td><td> 18.23260 </td><td>...       </td><td>0.1334    </td><td>0.3663307 </td><td>21.29783  </td><td>4.364887  </td><td>0.2049452 </td><td> 259.7530 </td><td>0.4825453 </td><td>0.96175893</td><td>0.27922246</td><td>4.590     </td></tr>\n",
       "\t<tr><td>J10FAG15  </td><td>141.42857 </td><td>3871.404  </td><td>722.9500  </td><td> 9.777778 </td><td>3.725     </td><td>0.6042533 </td><td>0.7510540 </td><td>1.5427180 </td><td> 51.98562 </td><td>...       </td><td>0.0854    </td><td>0.4024881 </td><td>21.06370  </td><td>4.721752  </td><td>0.2241654 </td><td> 349.5795 </td><td>0.6831540 </td><td>0.78358389</td><td>0.19022354</td><td>2.980     </td></tr>\n",
       "\t<tr><td>J10FRA19  </td><td>113.94737 </td><td>3121.343  </td><td>113.9802  </td><td>56.000000 </td><td>8.935     </td><td>0.5481215 </td><td>0.7678219 </td><td>1.1889349 </td><td>354.28250 </td><td>...       </td><td>0.0924    </td><td>0.4778804 </td><td>18.15457  </td><td>3.843781  </td><td>0.2117253 </td><td>2310.4256 </td><td>0.4141856 </td><td>0.54564968</td><td>0.18820291</td><td>6.500     </td></tr>\n",
       "\t<tr><td>J10OSV19  </td><td>193.33333 </td><td>4496.479  </td><td>684.6123  </td><td> 8.285714 </td><td>3.760     </td><td>0.5830135 </td><td>0.7995936 </td><td>1.5381013 </td><td> 19.58762 </td><td>...       </td><td>0.1070    </td><td>0.3369430 </td><td>22.02248  </td><td>5.631711  </td><td>0.2557255 </td><td> 578.3284 </td><td>1.6445056 </td><td>0.27014928</td><td>0.18079595</td><td>2.820     </td></tr>\n",
       "</tbody>\n",
       "</table>\n"
      ],
      "text/latex": [
       "\\begin{tabular}{r|llllllllllllllllllllllllllllllllllllllllllllllllllllllllllllllllllllll}\n",
       " Sample.ID & Height.DBH.Ratio & Estem & Etwig & Branching.Distance & Twig.Diameter & Twig.Wood.Density & Stem.Wood.Density & Leaf.Mass.Fraction & Leaf.Area & ... & Leaf.Thickness & Leaf.Density & C.N & C.P & N.P & Kl & Kleaf & Biomass1 & pcent.max.Bio1 & Total.Transmitted.Light\\\\\n",
       "\\hline\n",
       "\t J10ACSA19  & 120.00000  & 2807.719   & 368.4968   & 16.750000  & 5.440      & 0.6568855  & 0.7900303  & 0.8552028  &  43.42781  & ...        & 0.0938     & 0.3864892  & 25.47644   & 5.815661   & 0.2282760  &  453.3973  & 0.2043562  & 0.06979659 & 0.00645662 & 2.425     \\\\\n",
       "\t J10AMSP12  &  98.29268  & 2012.670   & 539.4002   &  8.000000  & 4.395      & 0.6276060  & 0.8900391  & 1.0007017  &  13.62967  & ...        & 0.1218     & 0.3794966  & 18.72918   & 4.112673   & 0.2195864  &  306.8134  & 0.7228903  & 0.82903646 & 0.22745817 & 3.890     \\\\\n",
       "\t J10AMSP13  & 160.66667  & 7055.698   & 378.0921   & 11.368421  & 5.400      & 0.6641150  & 0.8772109  & 0.6397234  &  18.23260  & ...        & 0.1334     & 0.3663307  & 21.29783   & 4.364887   & 0.2049452  &  259.7530  & 0.4825453  & 0.96175893 & 0.27922246 & 4.590     \\\\\n",
       "\t J10FAG15   & 141.42857  & 3871.404   & 722.9500   &  9.777778  & 3.725      & 0.6042533  & 0.7510540  & 1.5427180  &  51.98562  & ...        & 0.0854     & 0.4024881  & 21.06370   & 4.721752   & 0.2241654  &  349.5795  & 0.6831540  & 0.78358389 & 0.19022354 & 2.980     \\\\\n",
       "\t J10FRA19   & 113.94737  & 3121.343   & 113.9802   & 56.000000  & 8.935      & 0.5481215  & 0.7678219  & 1.1889349  & 354.28250  & ...        & 0.0924     & 0.4778804  & 18.15457   & 3.843781   & 0.2117253  & 2310.4256  & 0.4141856  & 0.54564968 & 0.18820291 & 6.500     \\\\\n",
       "\t J10OSV19   & 193.33333  & 4496.479   & 684.6123   &  8.285714  & 3.760      & 0.5830135  & 0.7995936  & 1.5381013  &  19.58762  & ...        & 0.1070     & 0.3369430  & 22.02248   & 5.631711   & 0.2557255  &  578.3284  & 1.6445056  & 0.27014928 & 0.18079595 & 2.820     \\\\\n",
       "\\end{tabular}\n"
      ],
      "text/markdown": [
       "\n",
       "| Sample.ID | Height.DBH.Ratio | Estem | Etwig | Branching.Distance | Twig.Diameter | Twig.Wood.Density | Stem.Wood.Density | Leaf.Mass.Fraction | Leaf.Area | ... | Leaf.Thickness | Leaf.Density | C.N | C.P | N.P | Kl | Kleaf | Biomass1 | pcent.max.Bio1 | Total.Transmitted.Light |\n",
       "|---|---|---|---|---|---|---|---|---|---|---|---|---|---|---|---|---|---|---|---|---|\n",
       "| J10ACSA19  | 120.00000  | 2807.719   | 368.4968   | 16.750000  | 5.440      | 0.6568855  | 0.7900303  | 0.8552028  |  43.42781  | ...        | 0.0938     | 0.3864892  | 25.47644   | 5.815661   | 0.2282760  |  453.3973  | 0.2043562  | 0.06979659 | 0.00645662 | 2.425      |\n",
       "| J10AMSP12  |  98.29268  | 2012.670   | 539.4002   |  8.000000  | 4.395      | 0.6276060  | 0.8900391  | 1.0007017  |  13.62967  | ...        | 0.1218     | 0.3794966  | 18.72918   | 4.112673   | 0.2195864  |  306.8134  | 0.7228903  | 0.82903646 | 0.22745817 | 3.890      |\n",
       "| J10AMSP13  | 160.66667  | 7055.698   | 378.0921   | 11.368421  | 5.400      | 0.6641150  | 0.8772109  | 0.6397234  |  18.23260  | ...        | 0.1334     | 0.3663307  | 21.29783   | 4.364887   | 0.2049452  |  259.7530  | 0.4825453  | 0.96175893 | 0.27922246 | 4.590      |\n",
       "| J10FAG15   | 141.42857  | 3871.404   | 722.9500   |  9.777778  | 3.725      | 0.6042533  | 0.7510540  | 1.5427180  |  51.98562  | ...        | 0.0854     | 0.4024881  | 21.06370   | 4.721752   | 0.2241654  |  349.5795  | 0.6831540  | 0.78358389 | 0.19022354 | 2.980      |\n",
       "| J10FRA19   | 113.94737  | 3121.343   | 113.9802   | 56.000000  | 8.935      | 0.5481215  | 0.7678219  | 1.1889349  | 354.28250  | ...        | 0.0924     | 0.4778804  | 18.15457   | 3.843781   | 0.2117253  | 2310.4256  | 0.4141856  | 0.54564968 | 0.18820291 | 6.500      |\n",
       "| J10OSV19   | 193.33333  | 4496.479   | 684.6123   |  8.285714  | 3.760      | 0.5830135  | 0.7995936  | 1.5381013  |  19.58762  | ...        | 0.1070     | 0.3369430  | 22.02248   | 5.631711   | 0.2557255  |  578.3284  | 1.6445056  | 0.27014928 | 0.18079595 | 2.820      |\n",
       "\n"
      ],
      "text/plain": [
       "  Sample.ID Height.DBH.Ratio Estem    Etwig    Branching.Distance Twig.Diameter\n",
       "1 J10ACSA19 120.00000        2807.719 368.4968 16.750000          5.440        \n",
       "2 J10AMSP12  98.29268        2012.670 539.4002  8.000000          4.395        \n",
       "3 J10AMSP13 160.66667        7055.698 378.0921 11.368421          5.400        \n",
       "4 J10FAG15  141.42857        3871.404 722.9500  9.777778          3.725        \n",
       "5 J10FRA19  113.94737        3121.343 113.9802 56.000000          8.935        \n",
       "6 J10OSV19  193.33333        4496.479 684.6123  8.285714          3.760        \n",
       "  Twig.Wood.Density Stem.Wood.Density Leaf.Mass.Fraction Leaf.Area ...\n",
       "1 0.6568855         0.7900303         0.8552028           43.42781 ...\n",
       "2 0.6276060         0.8900391         1.0007017           13.62967 ...\n",
       "3 0.6641150         0.8772109         0.6397234           18.23260 ...\n",
       "4 0.6042533         0.7510540         1.5427180           51.98562 ...\n",
       "5 0.5481215         0.7678219         1.1889349          354.28250 ...\n",
       "6 0.5830135         0.7995936         1.5381013           19.58762 ...\n",
       "  Leaf.Thickness Leaf.Density C.N      C.P      N.P       Kl        Kleaf    \n",
       "1 0.0938         0.3864892    25.47644 5.815661 0.2282760  453.3973 0.2043562\n",
       "2 0.1218         0.3794966    18.72918 4.112673 0.2195864  306.8134 0.7228903\n",
       "3 0.1334         0.3663307    21.29783 4.364887 0.2049452  259.7530 0.4825453\n",
       "4 0.0854         0.4024881    21.06370 4.721752 0.2241654  349.5795 0.6831540\n",
       "5 0.0924         0.4778804    18.15457 3.843781 0.2117253 2310.4256 0.4141856\n",
       "6 0.1070         0.3369430    22.02248 5.631711 0.2557255  578.3284 1.6445056\n",
       "  Biomass1   pcent.max.Bio1 Total.Transmitted.Light\n",
       "1 0.06979659 0.00645662     2.425                  \n",
       "2 0.82903646 0.22745817     3.890                  \n",
       "3 0.96175893 0.27922246     4.590                  \n",
       "4 0.78358389 0.19022354     2.980                  \n",
       "5 0.54564968 0.18820291     6.500                  \n",
       "6 0.27014928 0.18079595     2.820                  "
      ]
     },
     "metadata": {},
     "output_type": "display_data"
    }
   ],
   "source": [
    "head(MSH.Raw)"
   ]
  },
  {
   "cell_type": "code",
   "execution_count": 5,
   "metadata": {},
   "outputs": [
    {
     "data": {
      "text/html": [
       "395"
      ],
      "text/latex": [
       "395"
      ],
      "text/markdown": [
       "395"
      ],
      "text/plain": [
       "[1] 395"
      ]
     },
     "metadata": {},
     "output_type": "display_data"
    }
   ],
   "source": [
    "nrow(MSH.Raw)"
   ]
  },
  {
   "cell_type": "code",
   "execution_count": 6,
   "metadata": {},
   "outputs": [
    {
     "data": {
      "text/html": [
       "30"
      ],
      "text/latex": [
       "30"
      ],
      "text/markdown": [
       "30"
      ],
      "text/plain": [
       "[1] 30"
      ]
     },
     "metadata": {},
     "output_type": "display_data"
    }
   ],
   "source": [
    "length(names(which(apply(MSH.Raw, 2, anyNA))))"
   ]
  },
  {
   "cell_type": "code",
   "execution_count": 7,
   "metadata": {},
   "outputs": [
    {
     "data": {
      "text/html": [
       "70"
      ],
      "text/latex": [
       "70"
      ],
      "text/markdown": [
       "70"
      ],
      "text/plain": [
       "[1] 70"
      ]
     },
     "metadata": {},
     "output_type": "display_data"
    }
   ],
   "source": [
    "# not sure how many columns there are in the first place. is that alot?\n",
    "ncol(MSH.Raw)"
   ]
  },
  {
   "cell_type": "code",
   "execution_count": 8,
   "metadata": {},
   "outputs": [
    {
     "data": {
      "text/html": [
       "6"
      ],
      "text/latex": [
       "6"
      ],
      "text/markdown": [
       "6"
      ],
      "text/plain": [
       "[1] 6"
      ]
     },
     "metadata": {},
     "output_type": "display_data"
    }
   ],
   "source": [
    "length(names(which(apply(RGR.Raw, 2, anyNA))))"
   ]
  },
  {
   "cell_type": "code",
   "execution_count": 9,
   "metadata": {},
   "outputs": [
    {
     "data": {
      "text/html": [
       "7"
      ],
      "text/latex": [
       "7"
      ],
      "text/markdown": [
       "7"
      ],
      "text/plain": [
       "[1] 7"
      ]
     },
     "metadata": {},
     "output_type": "display_data"
    }
   ],
   "source": [
    "ncol(RGR.Raw)"
   ]
  },
  {
   "cell_type": "markdown",
   "metadata": {},
   "source": [
    "So, 30/70 columns in the trait data have NAs. That's ~43%. I may have to do some imputation to fill in those NAs. For the growth rate dataset, 6/7 columns have NAs. That's about 85%. \n",
    "\n",
    "There are numerous packages I can use for this step, but a paper I read (Handling missing values: A study of popular imputation packages in R) recommends VIM. The authors argue that VIM seems to have higher accuracy and does better with smaller datasets (n<15000). I can use 1 of four methods in VIM (https://core.ac.uk/download/pdf/156957839.pdf). I will do some reading on which of the four I should use over the weekend."
   ]
  },
  {
   "cell_type": "markdown",
   "metadata": {},
   "source": [
    "After doing reading, I will use the robust  EMbased imputation method, which is the only method in the package that does multiple imputations. For this method, we use both the variance and OLS to fill in the missing values. But, here, we are using the observed data to estimate multiple values at a time. These values should reflect the uncertainty around the true value.\n",
    "\n",
    "I will compare performance between just running the model without the missing cases vs the imputated dataset. If the results converge, I will use the imputated dataset."
   ]
  },
  {
   "cell_type": "code",
   "execution_count": 10,
   "metadata": {},
   "outputs": [
    {
     "name": "stderr",
     "output_type": "stream",
     "text": [
      "Warning message:\n",
      "\"package 'VIM' was built under R version 3.6.3\"Loading required package: colorspace\n",
      "Loading required package: grid\n",
      "VIM is ready to use.\n",
      "\n",
      "Suggestions and bug-reports can be submitted at: https://github.com/statistikat/VIM/issues\n",
      "\n",
      "Attaching package: 'VIM'\n",
      "\n",
      "The following object is masked from 'package:datasets':\n",
      "\n",
      "    sleep\n",
      "\n",
      "Warning message:\n",
      "\"package 'FactoMineR' was built under R version 3.6.3\"Warning message:\n",
      "\"package 'missMDA' was built under R version 3.6.3\"Warning message:\n",
      "\"package 'naniar' was built under R version 3.6.3\"Warning message:\n",
      "\"package 'mice' was built under R version 3.6.3\"\n",
      "Attaching package: 'mice'\n",
      "\n",
      "The following objects are masked from 'package:base':\n",
      "\n",
      "    cbind, rbind\n",
      "\n",
      "Warning message:\n",
      "\"package 'mvnormtest' was built under R version 3.6.3\"Warning message:\n",
      "\"package 'RVAideMemoire' was built under R version 3.6.3\"*** Package RVAideMemoire v 0.9-77 ***\n",
      "\n",
      "Attaching package: 'RVAideMemoire'\n",
      "\n",
      "The following object is masked from 'package:mvnormtest':\n",
      "\n",
      "    mshapiro.test\n",
      "\n"
     ]
    }
   ],
   "source": [
    "library(VIM)\n",
    "library(FactoMineR)\n",
    "library(missMDA)\n",
    "library(naniar)\n",
    "library(mice)\n",
    "library(mvnormtest)\n",
    "library(RVAideMemoire)"
   ]
  },
  {
   "cell_type": "code",
   "execution_count": 11,
   "metadata": {},
   "outputs": [
    {
     "data": {
      "image/png": "[encoded data removed]",
      "text/plain": [
       "plot without title"
      ]
     },
     "metadata": {},
     "output_type": "display_data"
    }
   ],
   "source": [
    "# where are most of the missing trait data?\n",
    "gg_miss_var(MSH.Raw)"
   ]
  },
  {
   "cell_type": "code",
   "execution_count": 12,
   "metadata": {},
   "outputs": [
    {
     "data": {
      "image/png": "[encoded data removed]",
      "text/plain": [
       "plot without title"
      ]
     },
     "metadata": {},
     "output_type": "display_data"
    }
   ],
   "source": [
    "# is there a trend in where data is missing?\n",
    "matrixplot(MSH.Raw, sortby = 2)"
   ]
  },
  {
   "cell_type": "markdown",
   "metadata": {},
   "source": [
    "Might be best to just drop some the columns trait values with a large % of missing data. "
   ]
  },
  {
   "cell_type": "markdown",
   "metadata": {},
   "source": [
    "I will compare K nearest neighbour and median as the method for initialization of missing values and compare the results. The maximum number of iterations, by default, is 100 and the threshold for convergence is 5 (https://www.rdocumentation.org/packages/VIM/versions/4.5.0/topics/irmi)"
   ]
  },
  {
   "cell_type": "markdown",
   "metadata": {},
   "source": [
    "For the trait data, I will simply remove those with a majority of missing cases before running the imputation - I am thinking of using a cut of less than 50%. I will use which to figure which columns fit this condition. I will use both mice and vim. If the data are non-normal, some reccommend predictive mean matching. I will use multivariate test for normality + examine a qqplot to see if the data are normal. If they are not, I will use predictive mean matching from mice. From vim, I will use robust EMbased imputation method. "
   ]
  },
  {
   "cell_type": "code",
   "execution_count": 13,
   "metadata": {},
   "outputs": [],
   "source": [
    "# removing cases with a bunch of zeroes\n",
    "MSH.NA150 <- MSH.Raw[,names(which(apply(MSH.Raw, 2, function (x) sum(is.na(x))<150)))]"
   ]
  },
  {
   "cell_type": "code",
   "execution_count": 14,
   "metadata": {},
   "outputs": [
    {
     "name": "stderr",
     "output_type": "stream",
     "text": [
      "Warning message in mean(as.numeric(x), na.rm = TRUE):\n",
      "\"NAs introduced by coercion\"Warning message in mean(as.numeric(x), na.rm = TRUE):\n",
      "\"NAs introduced by coercion\"Warning message in mean(as.numeric(x), na.rm = TRUE):\n",
      "\"NAs introduced by coercion\""
     ]
    }
   ],
   "source": [
    "# I only want columns that are numeric\n",
    "numeric_columns <- which(apply(MSH.NA150,2, function (x) !is.na(mean(as.numeric(x), na.rm = TRUE))))"
   ]
  },
  {
   "cell_type": "markdown",
   "metadata": {},
   "source": [
    "I decided to try mice (pacakge), which has a range of regression-based methods (including) descion trees. To use any of the regression-based options, I need some degree of normality. Allternaivelu, I can use predictive  mean matching, which works well for non-normal data. First, I will check for multivariate normality."
   ]
  },
  {
   "cell_type": "markdown",
   "metadata": {},
   "source": [
    "I decided to try mice (package), which has a range of regression-based methods (including) decision trees. To use any of the regression-based options, I need some degree of normality. Alternatively, I can use predictive mean matching, which works well for non-normal data. First, I will check for multivariate normality."
   ]
  },
  {
   "cell_type": "code",
   "execution_count": 15,
   "metadata": {
    "scrolled": true
   },
   "outputs": [
    {
     "data": {
      "text/html": [
       "<ol class=list-inline>\n",
       "\t<li>83</li>\n",
       "\t<li>108</li>\n",
       "</ol>\n"
      ],
      "text/latex": [
       "\\begin{enumerate*}\n",
       "\\item 83\n",
       "\\item 108\n",
       "\\end{enumerate*}\n"
      ],
      "text/markdown": [
       "1. 83\n",
       "2. 108\n",
       "\n",
       "\n"
      ],
      "text/plain": [
       "[1]  83 108"
      ]
     },
     "metadata": {},
     "output_type": "display_data"
    },
    {
     "data": {
      "image/png": "[encoded data removed]",
      "text/plain": [
       "Plot with title \"Multi-normal Q-Q Plot\""
      ]
     },
     "metadata": {},
     "output_type": "display_data"
    }
   ],
   "source": [
    "# need to make sure the data are being read as numeric for this to work\n",
    "mqqnorm(na.omit(data.matrix(MSH.NA150[,numeric_columns])))"
   ]
  },
  {
   "cell_type": "code",
   "execution_count": 16,
   "metadata": {
    "scrolled": true
   },
   "outputs": [
    {
     "data": {
      "text/plain": [
       "\n",
       "\tMultivariate Shapiro-Wilk normality test\n",
       "\n",
       "data:  (Height.DBH.Ratio,Estem,Etwig,Branching.Distance,Twig.Diameter,Twig.Wood.Density,Stem.Wood.Density,Leaf.Mass.Fraction,Leaf.Area,LMA,LCC,LNC,LPC,d15N,t.b2,Ks,Ktwig,Huber.Value,X.Lum,VD,X.Sapwood,d13C,Biomass5,pcent.max.Bio5,Symmetric.Competition,Asymmetric.Competition,Soil.Humidity,pH,Organic.C,N,P,K,Ca,Mg,Soil.Depth,Slope,North.Aspect,East.Aspect,Elevation,Summer.Max,Fall.Min,Mean.Temp,X.Canopy.Opening,Tree.Age,Tree.Height,julian.date.2011,Branch.Height,Twig.branching.angle,Hmax,Shade.Tolerance,Drought.Tolerance,WaterLogging.Tolerance,DBH.DGH,Leaf.Area.Ratio,Branch.Dry.Mass,Leaf.Thickness,Leaf.Density,C.N,C.P,N.P,Kl,Kleaf,Biomass1,pcent.max.Bio1,Total.Transmitted.Light)\n",
       "W = 0.43049, p-value < 2.2e-16\n"
      ]
     },
     "metadata": {},
     "output_type": "display_data"
    }
   ],
   "source": [
    "mshapiro.test(na.omit(data.matrix(MSH.NA150[,numeric_columns])))"
   ]
  },
  {
   "cell_type": "markdown",
   "metadata": {},
   "source": [
    "The data seem to be non-normal, overall. While some are probably close to normal, it might be safer to just use mean matching."
   ]
  },
  {
   "cell_type": "code",
   "execution_count": 17,
   "metadata": {},
   "outputs": [
    {
     "name": "stderr",
     "output_type": "stream",
     "text": [
      "Warning message:\n",
      "\"Number of logged events: 675\""
     ]
    }
   ],
   "source": [
    "MSH.IP <- mice(data.matrix(MSH.NA150[,numeric_columns]), \n",
    "               printFlag=FALSE, method = \"pmm\", m = 5, seed = 300)"
   ]
  },
  {
   "cell_type": "code",
   "execution_count": 18,
   "metadata": {},
   "outputs": [],
   "source": [
    "MSH.IP.IRMI <- irmi(data.matrix(MSH.NA150[,numeric_columns]))"
   ]
  },
  {
   "cell_type": "code",
   "execution_count": 19,
   "metadata": {},
   "outputs": [
    {
     "data": {
      "text/html": [
       "<table>\n",
       "<thead><tr><th scope=col>Height.DBH.Ratio</th><th scope=col>Estem</th><th scope=col>Etwig</th><th scope=col>Branching.Distance</th><th scope=col>Twig.Diameter</th><th scope=col>Twig.Wood.Density</th><th scope=col>Stem.Wood.Density</th><th scope=col>Leaf.Mass.Fraction</th><th scope=col>Leaf.Area</th><th scope=col>LMA</th><th scope=col>...</th><th scope=col>Soil.Depth_imp</th><th scope=col>Tree.Age_imp</th><th scope=col>Twig.branching.angle_imp</th><th scope=col>Shade.Tolerance_imp</th><th scope=col>Drought.Tolerance_imp</th><th scope=col>WaterLogging.Tolerance_imp</th><th scope=col>Kl_imp</th><th scope=col>Kleaf_imp</th><th scope=col>Biomass1_imp</th><th scope=col>pcent.max.Bio1_imp</th></tr></thead>\n",
       "<tbody>\n",
       "\t<tr><td>120.00000</td><td>2807.719 </td><td>368.4968 </td><td>16.750000</td><td>5.440    </td><td>0.6568855</td><td>0.7900303</td><td>0.8552028</td><td> 43.42781</td><td>36.25269 </td><td>...      </td><td>TRUE     </td><td>FALSE    </td><td>FALSE    </td><td>FALSE    </td><td>FALSE    </td><td>FALSE    </td><td>FALSE    </td><td>FALSE    </td><td>FALSE    </td><td>FALSE    </td></tr>\n",
       "\t<tr><td> 98.29268</td><td>2012.670 </td><td>539.4002 </td><td> 8.000000</td><td>4.395    </td><td>0.6276060</td><td>0.8900391</td><td>1.0007017</td><td> 13.62967</td><td>46.22268 </td><td>...      </td><td>TRUE     </td><td>FALSE    </td><td>FALSE    </td><td> TRUE    </td><td> TRUE    </td><td> TRUE    </td><td>FALSE    </td><td>FALSE    </td><td>FALSE    </td><td>FALSE    </td></tr>\n",
       "\t<tr><td>160.66667</td><td>7055.698 </td><td>378.0921 </td><td>11.368421</td><td>5.400    </td><td>0.6641150</td><td>0.8772109</td><td>0.6397234</td><td> 18.23260</td><td>48.86851 </td><td>...      </td><td>TRUE     </td><td>FALSE    </td><td>FALSE    </td><td> TRUE    </td><td> TRUE    </td><td> TRUE    </td><td>FALSE    </td><td>FALSE    </td><td>FALSE    </td><td>FALSE    </td></tr>\n",
       "\t<tr><td>141.42857</td><td>3871.404 </td><td>722.9500 </td><td> 9.777778</td><td>3.725    </td><td>0.6042533</td><td>0.7510540</td><td>1.5427180</td><td> 51.98562</td><td>34.37248 </td><td>...      </td><td>TRUE     </td><td>FALSE    </td><td>FALSE    </td><td>FALSE    </td><td>FALSE    </td><td>FALSE    </td><td>FALSE    </td><td>FALSE    </td><td>FALSE    </td><td>FALSE    </td></tr>\n",
       "\t<tr><td>113.94737</td><td>3121.343 </td><td>113.9802 </td><td>56.000000</td><td>8.935    </td><td>0.5481215</td><td>0.7678219</td><td>1.1889349</td><td>354.28250</td><td>44.15615 </td><td>...      </td><td>TRUE     </td><td>FALSE    </td><td>FALSE    </td><td>FALSE    </td><td>FALSE    </td><td>FALSE    </td><td>FALSE    </td><td>FALSE    </td><td>FALSE    </td><td>FALSE    </td></tr>\n",
       "\t<tr><td>193.33333</td><td>4496.479 </td><td>684.6123 </td><td> 8.285714</td><td>3.760    </td><td>0.5830135</td><td>0.7995936</td><td>1.5381013</td><td> 19.58762</td><td>36.05290 </td><td>...      </td><td>TRUE     </td><td>FALSE    </td><td>FALSE    </td><td>FALSE    </td><td>FALSE    </td><td>FALSE    </td><td>FALSE    </td><td>FALSE    </td><td>FALSE    </td><td>FALSE    </td></tr>\n",
       "</tbody>\n",
       "</table>\n"
      ],
      "text/latex": [
       "\\begin{tabular}{r|lllllllllllllllllllllllllllllllllllllllllllllllllllllllllllllllllllllllllllllllllllllllllllll}\n",
       " Height.DBH.Ratio & Estem & Etwig & Branching.Distance & Twig.Diameter & Twig.Wood.Density & Stem.Wood.Density & Leaf.Mass.Fraction & Leaf.Area & LMA & ... & Soil.Depth\\_imp & Tree.Age\\_imp & Twig.branching.angle\\_imp & Shade.Tolerance\\_imp & Drought.Tolerance\\_imp & WaterLogging.Tolerance\\_imp & Kl\\_imp & Kleaf\\_imp & Biomass1\\_imp & pcent.max.Bio1\\_imp\\\\\n",
       "\\hline\n",
       "\t 120.00000 & 2807.719  & 368.4968  & 16.750000 & 5.440     & 0.6568855 & 0.7900303 & 0.8552028 &  43.42781 & 36.25269  & ...       & TRUE      & FALSE     & FALSE     & FALSE     & FALSE     & FALSE     & FALSE     & FALSE     & FALSE     & FALSE    \\\\\n",
       "\t  98.29268 & 2012.670  & 539.4002  &  8.000000 & 4.395     & 0.6276060 & 0.8900391 & 1.0007017 &  13.62967 & 46.22268  & ...       & TRUE      & FALSE     & FALSE     &  TRUE     &  TRUE     &  TRUE     & FALSE     & FALSE     & FALSE     & FALSE    \\\\\n",
       "\t 160.66667 & 7055.698  & 378.0921  & 11.368421 & 5.400     & 0.6641150 & 0.8772109 & 0.6397234 &  18.23260 & 48.86851  & ...       & TRUE      & FALSE     & FALSE     &  TRUE     &  TRUE     &  TRUE     & FALSE     & FALSE     & FALSE     & FALSE    \\\\\n",
       "\t 141.42857 & 3871.404  & 722.9500  &  9.777778 & 3.725     & 0.6042533 & 0.7510540 & 1.5427180 &  51.98562 & 34.37248  & ...       & TRUE      & FALSE     & FALSE     & FALSE     & FALSE     & FALSE     & FALSE     & FALSE     & FALSE     & FALSE    \\\\\n",
       "\t 113.94737 & 3121.343  & 113.9802  & 56.000000 & 8.935     & 0.5481215 & 0.7678219 & 1.1889349 & 354.28250 & 44.15615  & ...       & TRUE      & FALSE     & FALSE     & FALSE     & FALSE     & FALSE     & FALSE     & FALSE     & FALSE     & FALSE    \\\\\n",
       "\t 193.33333 & 4496.479  & 684.6123  &  8.285714 & 3.760     & 0.5830135 & 0.7995936 & 1.5381013 &  19.58762 & 36.05290  & ...       & TRUE      & FALSE     & FALSE     & FALSE     & FALSE     & FALSE     & FALSE     & FALSE     & FALSE     & FALSE    \\\\\n",
       "\\end{tabular}\n"
      ],
      "text/markdown": [
       "\n",
       "| Height.DBH.Ratio | Estem | Etwig | Branching.Distance | Twig.Diameter | Twig.Wood.Density | Stem.Wood.Density | Leaf.Mass.Fraction | Leaf.Area | LMA | ... | Soil.Depth_imp | Tree.Age_imp | Twig.branching.angle_imp | Shade.Tolerance_imp | Drought.Tolerance_imp | WaterLogging.Tolerance_imp | Kl_imp | Kleaf_imp | Biomass1_imp | pcent.max.Bio1_imp |\n",
       "|---|---|---|---|---|---|---|---|---|---|---|---|---|---|---|---|---|---|---|---|---|\n",
       "| 120.00000 | 2807.719  | 368.4968  | 16.750000 | 5.440     | 0.6568855 | 0.7900303 | 0.8552028 |  43.42781 | 36.25269  | ...       | TRUE      | FALSE     | FALSE     | FALSE     | FALSE     | FALSE     | FALSE     | FALSE     | FALSE     | FALSE     |\n",
       "|  98.29268 | 2012.670  | 539.4002  |  8.000000 | 4.395     | 0.6276060 | 0.8900391 | 1.0007017 |  13.62967 | 46.22268  | ...       | TRUE      | FALSE     | FALSE     |  TRUE     |  TRUE     |  TRUE     | FALSE     | FALSE     | FALSE     | FALSE     |\n",
       "| 160.66667 | 7055.698  | 378.0921  | 11.368421 | 5.400     | 0.6641150 | 0.8772109 | 0.6397234 |  18.23260 | 48.86851  | ...       | TRUE      | FALSE     | FALSE     |  TRUE     |  TRUE     |  TRUE     | FALSE     | FALSE     | FALSE     | FALSE     |\n",
       "| 141.42857 | 3871.404  | 722.9500  |  9.777778 | 3.725     | 0.6042533 | 0.7510540 | 1.5427180 |  51.98562 | 34.37248  | ...       | TRUE      | FALSE     | FALSE     | FALSE     | FALSE     | FALSE     | FALSE     | FALSE     | FALSE     | FALSE     |\n",
       "| 113.94737 | 3121.343  | 113.9802  | 56.000000 | 8.935     | 0.5481215 | 0.7678219 | 1.1889349 | 354.28250 | 44.15615  | ...       | TRUE      | FALSE     | FALSE     | FALSE     | FALSE     | FALSE     | FALSE     | FALSE     | FALSE     | FALSE     |\n",
       "| 193.33333 | 4496.479  | 684.6123  |  8.285714 | 3.760     | 0.5830135 | 0.7995936 | 1.5381013 |  19.58762 | 36.05290  | ...       | TRUE      | FALSE     | FALSE     | FALSE     | FALSE     | FALSE     | FALSE     | FALSE     | FALSE     | FALSE     |\n",
       "\n"
      ],
      "text/plain": [
       "  Height.DBH.Ratio Estem    Etwig    Branching.Distance Twig.Diameter\n",
       "1 120.00000        2807.719 368.4968 16.750000          5.440        \n",
       "2  98.29268        2012.670 539.4002  8.000000          4.395        \n",
       "3 160.66667        7055.698 378.0921 11.368421          5.400        \n",
       "4 141.42857        3871.404 722.9500  9.777778          3.725        \n",
       "5 113.94737        3121.343 113.9802 56.000000          8.935        \n",
       "6 193.33333        4496.479 684.6123  8.285714          3.760        \n",
       "  Twig.Wood.Density Stem.Wood.Density Leaf.Mass.Fraction Leaf.Area LMA      ...\n",
       "1 0.6568855         0.7900303         0.8552028           43.42781 36.25269 ...\n",
       "2 0.6276060         0.8900391         1.0007017           13.62967 46.22268 ...\n",
       "3 0.6641150         0.8772109         0.6397234           18.23260 48.86851 ...\n",
       "4 0.6042533         0.7510540         1.5427180           51.98562 34.37248 ...\n",
       "5 0.5481215         0.7678219         1.1889349          354.28250 44.15615 ...\n",
       "6 0.5830135         0.7995936         1.5381013           19.58762 36.05290 ...\n",
       "  Soil.Depth_imp Tree.Age_imp Twig.branching.angle_imp Shade.Tolerance_imp\n",
       "1 TRUE           FALSE        FALSE                    FALSE              \n",
       "2 TRUE           FALSE        FALSE                     TRUE              \n",
       "3 TRUE           FALSE        FALSE                     TRUE              \n",
       "4 TRUE           FALSE        FALSE                    FALSE              \n",
       "5 TRUE           FALSE        FALSE                    FALSE              \n",
       "6 TRUE           FALSE        FALSE                    FALSE              \n",
       "  Drought.Tolerance_imp WaterLogging.Tolerance_imp Kl_imp Kleaf_imp\n",
       "1 FALSE                 FALSE                      FALSE  FALSE    \n",
       "2  TRUE                  TRUE                      FALSE  FALSE    \n",
       "3  TRUE                  TRUE                      FALSE  FALSE    \n",
       "4 FALSE                 FALSE                      FALSE  FALSE    \n",
       "5 FALSE                 FALSE                      FALSE  FALSE    \n",
       "6 FALSE                 FALSE                      FALSE  FALSE    \n",
       "  Biomass1_imp pcent.max.Bio1_imp\n",
       "1 FALSE        FALSE             \n",
       "2 FALSE        FALSE             \n",
       "3 FALSE        FALSE             \n",
       "4 FALSE        FALSE             \n",
       "5 FALSE        FALSE             \n",
       "6 FALSE        FALSE             "
      ]
     },
     "metadata": {},
     "output_type": "display_data"
    }
   ],
   "source": [
    "head(MSH.IP.IRMI)"
   ]
  },
  {
   "cell_type": "markdown",
   "metadata": {},
   "source": [
    "Now, I will run the imputation on these data. Since I have removed the columns with a large amount of missing cases, the imputation should work. If not, I will set a more stringent condition. "
   ]
  },
  {
   "cell_type": "code",
   "execution_count": 20,
   "metadata": {
    "scrolled": true
   },
   "outputs": [
    {
     "data": {
      "text/plain": [
       "\n",
       "Call:\n",
       "lm(formula = Tree.Height ~ Soil.Depth + Biomass1, data = MSH.NA150)\n",
       "\n",
       "Residuals:\n",
       "    Min      1Q  Median      3Q     Max \n",
       "-287.09 -102.28  -17.95   90.83  525.30 \n",
       "\n",
       "Coefficients:\n",
       "            Estimate Std. Error t value Pr(>|t|)    \n",
       "(Intercept) 388.7061    18.6338  20.860  < 2e-16 ***\n",
       "Soil.Depth    0.4576     0.5080   0.901    0.368    \n",
       "Biomass1     21.5830     4.4587   4.841 2.07e-06 ***\n",
       "---\n",
       "Signif. codes:  0 '***' 0.001 '**' 0.01 '*' 0.05 '.' 0.1 ' ' 1\n",
       "\n",
       "Residual standard error: 130.9 on 302 degrees of freedom\n",
       "  (90 observations deleted due to missingness)\n",
       "Multiple R-squared:  0.07798,\tAdjusted R-squared:  0.07188 \n",
       "F-statistic: 12.77 on 2 and 302 DF,  p-value: 4.736e-06\n"
      ]
     },
     "metadata": {},
     "output_type": "display_data"
    }
   ],
   "source": [
    "# fit a lm and see if results are comparable between mice output and raw data\n",
    "fit.base = lm(Tree.Height ~ Soil.Depth + Biomass1, data = MSH.NA150)\n",
    "summary(fit.base)"
   ]
  },
  {
   "cell_type": "code",
   "execution_count": 21,
   "metadata": {},
   "outputs": [
    {
     "data": {
      "text/html": [
       "<table>\n",
       "<thead><tr><th scope=col>term</th><th scope=col>estimate</th><th scope=col>std.error</th><th scope=col>statistic</th><th scope=col>df</th><th scope=col>p.value</th></tr></thead>\n",
       "<tbody>\n",
       "\t<tr><td>(Intercept)</td><td>387.8234274</td><td>16.5780245 </td><td>23.393826  </td><td>268.1611   </td><td>0.000000000</td></tr>\n",
       "\t<tr><td>Soil.Depth </td><td>  0.6723785</td><td> 0.4531367 </td><td> 1.483831  </td><td>198.5267   </td><td>0.139439530</td></tr>\n",
       "\t<tr><td>Biomass1   </td><td> 10.4743309</td><td> 3.4246909 </td><td> 3.058475  </td><td>278.2229   </td><td>0.002441425</td></tr>\n",
       "</tbody>\n",
       "</table>\n"
      ],
      "text/latex": [
       "\\begin{tabular}{r|llllll}\n",
       " term & estimate & std.error & statistic & df & p.value\\\\\n",
       "\\hline\n",
       "\t (Intercept) & 387.8234274 & 16.5780245  & 23.393826   & 268.1611    & 0.000000000\\\\\n",
       "\t Soil.Depth  &   0.6723785 &  0.4531367  &  1.483831   & 198.5267    & 0.139439530\\\\\n",
       "\t Biomass1    &  10.4743309 &  3.4246909  &  3.058475   & 278.2229    & 0.002441425\\\\\n",
       "\\end{tabular}\n"
      ],
      "text/markdown": [
       "\n",
       "| term | estimate | std.error | statistic | df | p.value |\n",
       "|---|---|---|---|---|---|\n",
       "| (Intercept) | 387.8234274 | 16.5780245  | 23.393826   | 268.1611    | 0.000000000 |\n",
       "| Soil.Depth  |   0.6723785 |  0.4531367  |  1.483831   | 198.5267    | 0.139439530 |\n",
       "| Biomass1    |  10.4743309 |  3.4246909  |  3.058475   | 278.2229    | 0.002441425 |\n",
       "\n"
      ],
      "text/plain": [
       "  term        estimate    std.error  statistic df       p.value    \n",
       "1 (Intercept) 387.8234274 16.5780245 23.393826 268.1611 0.000000000\n",
       "2 Soil.Depth    0.6723785  0.4531367  1.483831 198.5267 0.139439530\n",
       "3 Biomass1     10.4743309  3.4246909  3.058475 278.2229 0.002441425"
      ]
     },
     "metadata": {},
     "output_type": "display_data"
    }
   ],
   "source": [
    "# build a model using dataset from mice, for all 5 of them\n",
    "fit.mice <- with(data = MSH.IP, exp = lm(Tree.Height ~ Soil.Depth + Biomass1))\n",
    "\n",
    "# pool results together \n",
    "combFit <- pool(fit.mice) \n",
    "# Note that the function pool() works for any object having BOTH coef() and vcov() methods, such as lm, glm and Arima, also for lme in nlme package.\n",
    "summary(combFit)"
   ]
  }
 ],
 "metadata": {
  "kernelspec": {
   "display_name": "R",
   "language": "R",
   "name": "ir"
  },
  "language_info": {
   "codemirror_mode": "r",
   "file_extension": ".r",
   "mimetype": "text/x-r-source",
   "name": "R",
   "pygments_lexer": "r",
   "version": "3.6.1"
  }
 },
 "nbformat": 4,
 "nbformat_minor": 4
}
