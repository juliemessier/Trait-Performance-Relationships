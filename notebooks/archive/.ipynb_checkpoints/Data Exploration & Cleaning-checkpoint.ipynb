{
 "cells": [
  {
   "cell_type": "markdown",
   "metadata": {},
   "source": [
    "# Traits and Plant Growth Rates"
   ]
  },
  {
   "cell_type": "markdown",
   "metadata": {},
   "source": [
    "We have two datasets: 1) basal area each year from 2006 to 2011 and 2) plant and environmental traits for each tree. Below, I aim to examine the data - assess data types, check for missingness, normality, outliers. Depndeding on the degree of missingness, I will impute the data as we would like to keep as many observations as possible.\n",
    "\n",
    "## Table of Contents\n",
    "* Initial Assessment\n",
    "* Imputation\n",
    "* Data Exploration\n",
    "* Conclusion"
   ]
  },
  {
   "cell_type": "markdown",
   "metadata": {},
   "source": [
    "## Initial Assessment"
   ]
  },
  {
   "cell_type": "markdown",
   "metadata": {},
   "source": [
    "I will assess the data classes (at each column),  missingness, whether the data are normal and the shape."
   ]
  },
  {
   "cell_type": "code",
   "execution_count": 1,
   "metadata": {},
   "outputs": [],
   "source": [
    "RGR.Raw <- data.frame(read.csv(\"C:/Users/jodyn/OneDrive/Github/Trait-Performance-Relationships/data/RGR.csv\"))\n",
    "MSH.Raw <- data.frame(read.csv(\"C:/Users/jodyn/OneDrive/Github/Trait-Performance-Relationships/data/MSH all data_July2015.csv\"))"
   ]
  },
  {
   "cell_type": "code",
   "execution_count": 2,
   "metadata": {},
   "outputs": [],
   "source": [
    "data_classes <- function(df){\n",
    "    # given a dataframe, df, print the class of each column #\n",
    "    df_class <- sapply(1:ncol(df), function (x) class(df[,x]))\n",
    "    df_class <- data.frame(Variable = colnames(df), Class = df_class)\n",
    "    cat(\"Class of each column\\n\\n\")\n",
    "    print(df_class)                  \n",
    "}"
   ]
  },
  {
   "cell_type": "code",
   "execution_count": 3,
   "metadata": {},
   "outputs": [
    {
     "name": "stdout",
     "output_type": "stream",
     "text": [
      "Class of each column\n",
      "\n",
      "   Variable   Class\n",
      "1  SampleID  factor\n",
      "2 BA.0.2006 numeric\n",
      "3 BA.0.2007 numeric\n",
      "4 BA.0.2008 numeric\n",
      "5 BA.0.2009 numeric\n",
      "6 BA.0.2010 numeric\n",
      "7 BA.0.2011 numeric\n"
     ]
    }
   ],
   "source": [
    "data_classes(RGR.Raw)"
   ]
  },
  {
   "cell_type": "markdown",
   "metadata": {},
   "source": [
    "Good, the only data being read as factors are the sampleIDs."
   ]
  },
  {
   "cell_type": "code",
   "execution_count": 4,
   "metadata": {},
   "outputs": [
    {
     "name": "stdout",
     "output_type": "stream",
     "text": [
      "Class of each column\n",
      "\n",
      "                  Variable   Class\n",
      "1                Sample.ID  factor\n",
      "2         Height.DBH.Ratio numeric\n",
      "3                    Estem numeric\n",
      "4                    Etwig numeric\n",
      "5       Branching.Distance numeric\n",
      "6            Twig.Diameter numeric\n",
      "7        Twig.Wood.Density numeric\n",
      "8        Stem.Wood.Density numeric\n",
      "9       Leaf.Mass.Fraction numeric\n",
      "10               Leaf.Area numeric\n",
      "11                     LMA numeric\n",
      "12                     LCC numeric\n",
      "13                     LNC numeric\n",
      "14                     LPC numeric\n",
      "15                    d15N numeric\n",
      "16                    t.b2 numeric\n",
      "17                      Ks numeric\n",
      "18                   Ktwig numeric\n",
      "19             Huber.Value numeric\n",
      "20                   X.Lum numeric\n",
      "21                      VD numeric\n",
      "22               X.Sapwood numeric\n",
      "23                    d13C numeric\n",
      "24                Biomass5 numeric\n",
      "25          pcent.max.Bio5 numeric\n",
      "26   Symmetric.Competition numeric\n",
      "27  Asymmetric.Competition numeric\n",
      "28           Soil.Humidity numeric\n",
      "29                      pH numeric\n",
      "30               Organic.C numeric\n",
      "31                       N numeric\n",
      "32                       P numeric\n",
      "33                       K numeric\n",
      "34                      Ca numeric\n",
      "35                      Mg numeric\n",
      "36              Soil.Depth numeric\n",
      "37                   Slope numeric\n",
      "38            North.Aspect numeric\n",
      "39             East.Aspect numeric\n",
      "40               Elevation numeric\n",
      "41              Summer.Max numeric\n",
      "42                Fall.Min numeric\n",
      "43               Mean.Temp numeric\n",
      "44        X.Canopy.Opening numeric\n",
      "45                 Species  factor\n",
      "46                    Site  factor\n",
      "47                Tree.Age numeric\n",
      "48             Tree.Height numeric\n",
      "49        julian.date.2011 numeric\n",
      "50           Branch.Height numeric\n",
      "51                     SRL numeric\n",
      "52       Root.Wood.Density numeric\n",
      "53    Twig.branching.angle numeric\n",
      "54                    Hmax numeric\n",
      "55         Shade.Tolerance numeric\n",
      "56       Drought.Tolerance numeric\n",
      "57  WaterLogging.Tolerance numeric\n",
      "58                 DBH.DGH numeric\n",
      "59         Leaf.Area.Ratio numeric\n",
      "60         Branch.Dry.Mass numeric\n",
      "61          Leaf.Thickness numeric\n",
      "62            Leaf.Density numeric\n",
      "63                     C.N numeric\n",
      "64                     C.P numeric\n",
      "65                     N.P numeric\n",
      "66                      Kl numeric\n",
      "67                   Kleaf numeric\n",
      "68                Biomass1 numeric\n",
      "69          pcent.max.Bio1 numeric\n",
      "70 Total.Transmitted.Light numeric\n"
     ]
    }
   ],
   "source": [
    "data_classes(MSH.Raw)"
   ]
  },
  {
   "cell_type": "markdown",
   "metadata": {},
   "source": [
    "Most of the trait data are numeric. The exceptions are site ID, sample ID, and species. "
   ]
  },
  {
   "cell_type": "code",
   "execution_count": 5,
   "metadata": {},
   "outputs": [],
   "source": [
    "data_missingness <- function(df){\n",
    "    # given a dataframe, df, find the % and count of missing values (coded as NAs)\n",
    "    # print the result\n",
    "    data_missing_percentage <- sapply(1:ncol(df), function (x){\n",
    "        sum(is.na(df[,x]))/nrow(df)*100})\n",
    "    data_missing_count <- sapply(1:ncol(df), function (x){\n",
    "        sum(is.na(df[,x]))})\n",
    "    data_missing <- data.frame(Variable = colnames(df), Missing_Percent = data_missing_percentage,\n",
    "                              Missing_Total = data_missing_count)\n",
    "    cat(\"Percentage of observations missing from column\\n\\n\")\n",
    "    print(data_missing)\n",
    "    cat(\"Mean % missing:\", mean(data_missing[,2]),\n",
    "       \"\\nTotal missing:\", sum(data_missing[,3]))} "
   ]
  },
  {
   "cell_type": "code",
   "execution_count": 6,
   "metadata": {},
   "outputs": [
    {
     "name": "stdout",
     "output_type": "stream",
     "text": [
      "Percentage of observations missing from column\n",
      "\n",
      "   Variable Missing_Percent Missing_Total\n",
      "1  SampleID        0.000000             0\n",
      "2 BA.0.2006        2.278481             9\n",
      "3 BA.0.2007        2.531646            10\n",
      "4 BA.0.2008        2.531646            10\n",
      "5 BA.0.2009        2.531646            10\n",
      "6 BA.0.2010        2.531646            10\n",
      "7 BA.0.2011        2.278481             9\n",
      "Mean % missing: 2.097649 \n",
      "Total missing: 58"
     ]
    }
   ],
   "source": [
    "data_missingness(RGR.Raw)"
   ]
  },
  {
   "cell_type": "markdown",
   "metadata": {},
   "source": [
    "Only a small portion of the data are missing. But, most of the missingness is from 2007 to 2010. I need (atleast) 2006 and 2007 to measure growth rates. Maybe, imputations are an option. I will need to compare fit and see if that works. If not, we will just need to remove these rows. "
   ]
  },
  {
   "cell_type": "code",
   "execution_count": 7,
   "metadata": {
    "scrolled": true
   },
   "outputs": [
    {
     "name": "stdout",
     "output_type": "stream",
     "text": [
      "Percentage of observations missing from column\n",
      "\n",
      "                  Variable Missing_Percent Missing_Total\n",
      "1                Sample.ID        0.000000             0\n",
      "2         Height.DBH.Ratio        0.000000             0\n",
      "3                    Estem        0.000000             0\n",
      "4                    Etwig        0.000000             0\n",
      "5       Branching.Distance        0.000000             0\n",
      "6            Twig.Diameter        0.000000             0\n",
      "7        Twig.Wood.Density        0.000000             0\n",
      "8        Stem.Wood.Density        0.000000             0\n",
      "9       Leaf.Mass.Fraction        0.000000             0\n",
      "10               Leaf.Area        0.000000             0\n",
      "11                     LMA        0.000000             0\n",
      "12                     LCC        0.000000             0\n",
      "13                     LNC        0.000000             0\n",
      "14                     LPC        0.000000             0\n",
      "15                    d15N        0.000000             0\n",
      "16                    t.b2        1.772152             7\n",
      "17                      Ks        2.025316             8\n",
      "18                   Ktwig        2.025316             8\n",
      "19             Huber.Value        1.012658             4\n",
      "20                   X.Lum        2.025316             8\n",
      "21                      VD        2.025316             8\n",
      "22               X.Sapwood        1.012658             4\n",
      "23                    d13C        0.000000             0\n",
      "24                Biomass5        2.784810            11\n",
      "25          pcent.max.Bio5        2.784810            11\n",
      "26   Symmetric.Competition        2.278481             9\n",
      "27  Asymmetric.Competition        2.278481             9\n",
      "28           Soil.Humidity        0.000000             0\n",
      "29                      pH       32.911392           130\n",
      "30               Organic.C       32.911392           130\n",
      "31                       N       32.911392           130\n",
      "32                       P       32.911392           130\n",
      "33                       K       32.911392           130\n",
      "34                      Ca       32.911392           130\n",
      "35                      Mg       32.911392           130\n",
      "36              Soil.Depth       20.759494            82\n",
      "37                   Slope        0.000000             0\n",
      "38            North.Aspect        0.000000             0\n",
      "39             East.Aspect        0.000000             0\n",
      "40               Elevation        0.000000             0\n",
      "41              Summer.Max        0.000000             0\n",
      "42                Fall.Min        0.000000             0\n",
      "43               Mean.Temp        0.000000             0\n",
      "44        X.Canopy.Opening        0.000000             0\n",
      "45                 Species        0.000000             0\n",
      "46                    Site        0.000000             0\n",
      "47                Tree.Age        1.518987             6\n",
      "48             Tree.Height        0.000000             0\n",
      "49        julian.date.2011        0.000000             0\n",
      "50           Branch.Height        0.000000             0\n",
      "51                     SRL       61.265823           242\n",
      "52       Root.Wood.Density       49.620253           196\n",
      "53    Twig.branching.angle       25.316456           100\n",
      "54                    Hmax        0.000000             0\n",
      "55         Shade.Tolerance        9.367089            37\n",
      "56       Drought.Tolerance        9.367089            37\n",
      "57  WaterLogging.Tolerance        9.367089            37\n",
      "58                 DBH.DGH        0.000000             0\n",
      "59         Leaf.Area.Ratio        0.000000             0\n",
      "60         Branch.Dry.Mass        0.000000             0\n",
      "61          Leaf.Thickness        0.000000             0\n",
      "62            Leaf.Density        0.000000             0\n",
      "63                     C.N        0.000000             0\n",
      "64                     C.P        0.000000             0\n",
      "65                     N.P        0.000000             0\n",
      "66                      Kl        2.025316             8\n",
      "67                   Kleaf        2.025316             8\n",
      "68                Biomass1        2.784810            11\n",
      "69          pcent.max.Bio1        2.784810            11\n",
      "70 Total.Transmitted.Light        0.000000             0\n",
      "Mean % missing: 6.40868 \n",
      "Total missing: 1772"
     ]
    }
   ],
   "source": [
    "data_missingness(MSH.Raw)"
   ]
  },
  {
   "cell_type": "markdown",
   "metadata": {},
   "source": [
    "A larger chunk of missingness from this dataframe. I will probably exclude columns with missingness greater than 50%. They are not worth trying to impute."
   ]
  },
  {
   "cell_type": "markdown",
   "metadata": {},
   "source": [
    "Since the data are non-normal, I will use predictive mean matching to impute the data (method = \"ppm\" in the mice package). I will also try robust EMbased imputation method in the VIM package (irmi)."
   ]
  },
  {
   "cell_type": "code",
   "execution_count": 8,
   "metadata": {},
   "outputs": [
    {
     "name": "stderr",
     "output_type": "stream",
     "text": [
      "Warning message:\n",
      "\"package 'e1071' was built under R version 3.6.3\""
     ]
    }
   ],
   "source": [
    "library(e1071) \n",
    "data_normality <- function(df){\n",
    "    # given a dataframe, df, find the skewness and kurtosis and test for normality\n",
    "    # but only include numeric columns\n",
    "    col_list <- colnames(df)[which(sapply(1:ncol(df), function (x){is.numeric(df[,x])}))]\n",
    "    data_skewness <- sapply(col_list, function (x){\n",
    "        skewness(df[,x], na.rm = TRUE)})\n",
    "    data_kurtosis <- sapply(col_list, function (x){\n",
    "        kurtosis(df[,x], na.rm = TRUE)})\n",
    "    data_normality <- sapply(col_list, function (x){\n",
    "        shapiro.test(df[,x])})[1:2,]\n",
    "    data_shape <- data.frame(Skewness = data_skewness,\n",
    "                              Kurtosis = data_kurtosis, Shapiro_Test_W = as.numeric(unname(data_normality[1,])),\n",
    "                            Shapiro_Test_pvalue = as.numeric(unname(data_normality[2,])))\n",
    "    cat(\"Kurtosis, skewness & test for normality for each numeric column\\n\\n\")\n",
    "    print(data_shape)} "
   ]
  },
  {
   "cell_type": "code",
   "execution_count": 9,
   "metadata": {},
   "outputs": [
    {
     "name": "stdout",
     "output_type": "stream",
     "text": [
      "Kurtosis, skewness & test for normality for each numeric column\n",
      "\n",
      "          Skewness Kurtosis Shapiro_Test_W Shapiro_Test_pvalue\n",
      "BA.0.2006 2.205066 9.575192      0.8302604        6.727060e-20\n",
      "BA.0.2007 1.974834 7.857950      0.8529547        1.531183e-18\n",
      "BA.0.2008 1.732066 6.132620      0.8758313        4.888132e-17\n",
      "BA.0.2009 1.523144 4.706086      0.8950752        1.313185e-15\n",
      "BA.0.2010 1.401437 3.873564      0.9068659        1.226322e-14\n",
      "BA.0.2011 1.273092 2.774428      0.9164002        8.264971e-14\n"
     ]
    }
   ],
   "source": [
    "data_normality(RGR.Raw)"
   ]
  },
  {
   "cell_type": "code",
   "execution_count": 10,
   "metadata": {},
   "outputs": [
    {
     "name": "stdout",
     "output_type": "stream",
     "text": [
      "Kurtosis, skewness & test for normality for each numeric column\n",
      "\n",
      "                           Skewness    Kurtosis Shapiro_Test_W\n",
      "Height.DBH.Ratio         0.61513858  0.36014192      0.9756856\n",
      "Estem                    1.93601520  5.09889246      0.8265319\n",
      "Etwig                    0.97278329  1.03804501      0.9434106\n",
      "Branching.Distance       2.16421081  4.43289855      0.7139592\n",
      "Twig.Diameter            1.99468523  5.70416006      0.8378735\n",
      "Twig.Wood.Density       -0.40711246 -0.10137377      0.9851752\n",
      "Stem.Wood.Density       -0.06266277 -0.81071742      0.9816907\n",
      "Leaf.Mass.Fraction       0.87366639  0.42557354      0.9446927\n",
      "Leaf.Area                2.79970650  8.41053692      0.6228780\n",
      "LMA                      0.97713603  0.17666176      0.9035701\n",
      "LCC                     -0.26548002 -0.19990420      0.9848028\n",
      "LNC                      0.25376965 -0.11819716      0.9931637\n",
      "LPC                      1.38658799  3.53654122      0.9167004\n",
      "d15N                     0.99975400  4.53980921      0.9533469\n",
      "t.b2                     0.76485421  1.03274025      0.9607384\n",
      "Ks                       2.74301433  9.02131501      0.6369516\n",
      "Ktwig                    2.68399639 10.21441529      0.7497345\n",
      "Huber.Value              5.65239829 34.79754373      0.2265211\n",
      "X.Lum                    0.62191768  0.25466497      0.9723949\n",
      "VD                       2.24856168  4.45079984      0.6633970\n",
      "X.Sapwood               -1.41050410  0.57103793      0.7377468\n",
      "d13C                     0.43157629 -0.23577726      0.9829922\n",
      "Biomass5                 4.44340093 32.25674244      0.6259497\n",
      "pcent.max.Bio5           1.11876893  0.16110624      0.8443092\n",
      "Symmetric.Competition    3.22991756 12.71774520      0.6268809\n",
      "Asymmetric.Competition   2.28856879  6.89815876      0.7614473\n",
      "Soil.Humidity            2.49332086  8.11503251      0.7434142\n",
      "pH                       0.27510841 -0.56499045      0.9845668\n",
      "Organic.C                1.23797992  0.56355976      0.8372381\n",
      "N                        1.49747437  1.42872399      0.8015035\n",
      "P                        3.24344907 13.81998716      0.6171520\n",
      "K                        1.33391056  1.81723415      0.8842745\n",
      "Ca                       2.25506266  5.95514292      0.7484911\n",
      "Mg                       1.93590441  5.43666139      0.8269009\n",
      "Soil.Depth               0.19381650 -1.17464542      0.9235141\n",
      "Slope                    0.90604582 -0.27627652      0.8168035\n",
      "North.Aspect            -0.16338664 -0.23337484      0.8613984\n",
      "East.Aspect             -0.05781552  0.02344174      0.8739285\n",
      "Elevation                0.81079442  0.62703374      0.9189618\n",
      "Summer.Max               0.93276602  0.43509728      0.8936559\n",
      "Fall.Min                -1.18826621  2.93693003      0.8890322\n",
      "Mean.Temp               -0.35226918 -0.67943973      0.9506321\n",
      "X.Canopy.Opening         2.78085780  9.55226402      0.6860049\n",
      "Tree.Age                 1.27700718  1.74187232      0.8992405\n",
      "Tree.Height              0.67070290  0.30734187      0.9673165\n",
      "julian.date.2011         0.08204044 -0.79557919      0.9725786\n",
      "Branch.Height            0.60994632  0.03904120      0.9692945\n",
      "SRL                      0.83014408  0.11785811      0.9383680\n",
      "Root.Wood.Density       -0.13847861 -0.04170704      0.9936849\n",
      "Twig.branching.angle    -1.11978965  2.64654170      0.9079096\n",
      "Hmax                    -0.02640966 -1.24037128      0.9045369\n",
      "Shade.Tolerance          0.25520973 -1.08024142      0.9263133\n",
      "Drought.Tolerance        0.52795983 -0.54229063      0.9057877\n",
      "WaterLogging.Tolerance   0.59556258 -1.04382708      0.8574412\n",
      "DBH.DGH                 -0.63936242  0.98110577      0.9721067\n",
      "Leaf.Area.Ratio          0.83119702  0.51004043      0.9522449\n",
      "Branch.Dry.Mass          2.34587357  7.91260315      0.7850187\n",
      "Leaf.Thickness           0.90744859  0.49923515      0.9393353\n",
      "Leaf.Density             0.33131431  0.05980425      0.9906200\n",
      "C.N                      0.84835725  1.57514498      0.9631034\n",
      "C.P                      0.88028784  2.15842777      0.9620802\n",
      "N.P                      0.50725570  0.87775778      0.9839363\n",
      "Kl                       2.06706245  3.69153209      0.6723794\n",
      "Kleaf                    5.26359389 37.91332725      0.5192117\n",
      "Biomass1                 4.12919525 22.78141664      0.5577118\n",
      "pcent.max.Bio1           1.57472483  1.55350739      0.7708601\n",
      "Total.Transmitted.Light  2.79784801  9.40139829      0.6808345\n",
      "                        Shapiro_Test_pvalue\n",
      "Height.DBH.Ratio               3.489555e-06\n",
      "Estem                          2.430616e-20\n",
      "Etwig                          3.931317e-11\n",
      "Branching.Distance             1.956606e-25\n",
      "Twig.Diameter                  1.066058e-19\n",
      "Twig.Wood.Density              4.537638e-04\n",
      "Stem.Wood.Density              6.679187e-05\n",
      "Leaf.Mass.Fraction             5.640336e-11\n",
      "Leaf.Area                      1.639312e-28\n",
      "LMA                            3.902566e-15\n",
      "LCC                            3.667550e-04\n",
      "LNC                            6.983980e-02\n",
      "LPC                            5.741328e-14\n",
      "d15N                           7.514927e-10\n",
      "t.b2                           1.127870e-08\n",
      "Ks                             8.055943e-28\n",
      "Ktwig                          8.807609e-24\n",
      "Huber.Value                    3.176650e-37\n",
      "X.Lum                          1.026583e-06\n",
      "VD                             5.681282e-27\n",
      "X.Sapwood                      2.172916e-24\n",
      "d13C                           1.340049e-04\n",
      "Biomass5                       4.629230e-28\n",
      "pcent.max.Bio5                 4.862465e-19\n",
      "Symmetric.Competition          4.250154e-28\n",
      "Asymmetric.Competition         2.949343e-23\n",
      "Soil.Humidity                  2.819139e-24\n",
      "pH                             5.845980e-03\n",
      "Organic.C                      5.376327e-16\n",
      "N                              1.115733e-17\n",
      "P                              6.634245e-24\n",
      "K                              2.558636e-13\n",
      "Ca                             8.323759e-20\n",
      "Mg                             1.652782e-16\n",
      "Soil.Depth                     1.435966e-11\n",
      "Slope                          7.235814e-21\n",
      "North.Aspect                   2.976738e-18\n",
      "East.Aspect                    2.083450e-17\n",
      "Elevation                      9.392704e-14\n",
      "Summer.Max                     6.050016e-16\n",
      "Fall.Min                       2.645041e-16\n",
      "Mean.Temp                      3.234695e-10\n",
      "X.Canopy.Opening               1.881339e-26\n",
      "Tree.Age                       2.307135e-15\n",
      "Tree.Height                    1.008519e-07\n",
      "julian.date.2011               8.751780e-07\n",
      "Branch.Height                  2.217139e-07\n",
      "SRL                            3.250120e-06\n",
      "Root.Wood.Density              5.585036e-01\n",
      "Twig.branching.angle           1.874148e-12\n",
      "Hmax                           4.713999e-15\n",
      "Shade.Tolerance                2.784181e-12\n",
      "Drought.Tolerance              3.950593e-14\n",
      "WaterLogging.Tolerance         1.426342e-17\n",
      "DBH.DGH                        7.146639e-07\n",
      "Leaf.Area.Ratio                5.317957e-10\n",
      "Branch.Dry.Mass                1.882907e-22\n",
      "Leaf.Thickness                 1.291490e-11\n",
      "Leaf.Density                   1.289892e-02\n",
      "C.N                            2.054560e-08\n",
      "C.P                            1.419000e-08\n",
      "N.P                            2.252438e-04\n",
      "Kl                             1.133589e-26\n",
      "Kleaf                          4.302288e-31\n",
      "Biomass1                       5.351085e-30\n",
      "pcent.max.Bio1                 8.689553e-23\n",
      "Total.Transmitted.Light        1.242064e-26\n"
     ]
    }
   ],
   "source": [
    "data_normality(MSH.Raw)"
   ]
  },
  {
   "cell_type": "code",
   "execution_count": 11,
   "metadata": {},
   "outputs": [
    {
     "name": "stderr",
     "output_type": "stream",
     "text": [
      "Warning message:\n",
      "\"package 'tidyr' was built under R version 3.6.3\"Warning message:\n",
      "\"package 'ggplot2' was built under R version 3.6.3\"Warning message:\n",
      "\"package 'hrbrthemes' was built under R version 3.6.3\"Warning message:\n",
      "\"package 'extrafont' was built under R version 3.6.2\"Registering fonts with R\n",
      "Warning message:\n",
      "\"package 'vegan' was built under R version 3.6.3\"Loading required package: permute\n",
      "Warning message:\n",
      "\"package 'permute' was built under R version 3.6.3\"Loading required package: lattice\n",
      "This is vegan 2.5-6\n"
     ]
    }
   ],
   "source": [
    "library(tidyr) \n",
    "library(ggplot2)\n",
    "library(hrbrthemes)\n",
    "library(extrafont)\n",
    "library(vegan)\n",
    "\n",
    "data_distribution <- function(df){\n",
    "    # given a dataframe, df, plot a density histogram and density plot\n",
    "    # we must put the data in long form first\n",
    "    # then, we can return the appropriate plot\n",
    "    col_list <- colnames(df)[which(sapply(1:ncol(df), function (x){is.numeric(df[,x])}))]\n",
    "    df_long = gather(df,group,measure, all_of(col_list), factor_key = TRUE)\n",
    "    df_long$measure <- as.numeric(df_long$measure)\n",
    "    \n",
    "    df_hist_density <- ggplot(df_long, aes(x = measure, fill = group, colour = group)) +\n",
    "    geom_histogram(aes (y = ..density..),position = \"identity\", alpha = 0.5, bins = 50)+\n",
    "    geom_density(aes(fill = NULL), alpha = 0.5)+\n",
    "    facet_wrap(~ group, scales = \"free\")+\n",
    "    labs( x = \" \", y = \" \")+\n",
    "    theme_bw() +\n",
    "    theme(legend.title = element_blank(), legend.position=\"bottom\",\n",
    "         text=element_text(family=\"Arial\"))\n",
    "    return(df_hist_density)\n",
    "}"
   ]
  },
  {
   "cell_type": "code",
   "execution_count": 12,
   "metadata": {},
   "outputs": [
    {
     "name": "stderr",
     "output_type": "stream",
     "text": [
      "Warning message:\n",
      "\"Removed 58 rows containing non-finite values (stat_bin).\"Warning message:\n",
      "\"Removed 58 rows containing non-finite values (stat_density).\""
     ]
    },
    {
     "data": {
      "image/png": "[encoded data removed]",
      "text/plain": [
       "plot without title"
      ]
     },
     "metadata": {},
     "output_type": "display_data"
    }
   ],
   "source": [
    "data_distribution(RGR.Raw)"
   ]
  },
  {
   "cell_type": "code",
   "execution_count": 13,
   "metadata": {},
   "outputs": [
    {
     "name": "stderr",
     "output_type": "stream",
     "text": [
      "Warning message:\n",
      "\"Removed 27 rows containing non-finite values (stat_bin).\"Warning message:\n",
      "\"Removed 27 rows containing non-finite values (stat_density).\""
     ]
    },
    {
     "data": {
      "image/png": "[encoded data removed]",
      "text/plain": [
       "plot without title"
      ]
     },
     "metadata": {},
     "output_type": "display_data"
    },
    {
     "name": "stderr",
     "output_type": "stream",
     "text": [
      "Warning message:\n",
      "\"Removed 190 rows containing non-finite values (stat_bin).\"Warning message:\n",
      "\"Removed 190 rows containing non-finite values (stat_density).\""
     ]
    },
    {
     "data": {
      "image/png": "[encoded data removed]",
      "text/plain": [
       "plot without title"
      ]
     },
     "metadata": {},
     "output_type": "display_data"
    },
    {
     "name": "stderr",
     "output_type": "stream",
     "text": [
      "Warning message:\n",
      "\"Removed 862 rows containing non-finite values (stat_bin).\"Warning message:\n",
      "\"Removed 862 rows containing non-finite values (stat_density).\""
     ]
    },
    {
     "data": {
      "image/png": "[encoded data removed]",
      "text/plain": [
       "plot without title"
      ]
     },
     "metadata": {},
     "output_type": "display_data"
    },
    {
     "name": "stderr",
     "output_type": "stream",
     "text": [
      "Warning message:\n",
      "\"Removed 6 rows containing non-finite values (stat_bin).\"Warning message:\n",
      "\"Removed 6 rows containing non-finite values (stat_density).\""
     ]
    },
    {
     "data": {
      "image/png": "[encoded data removed]",
      "text/plain": [
       "plot without title"
      ]
     },
     "metadata": {},
     "output_type": "display_data"
    },
    {
     "name": "stderr",
     "output_type": "stream",
     "text": [
      "Warning message:\n",
      "\"Removed 649 rows containing non-finite values (stat_bin).\"Warning message:\n",
      "\"Removed 649 rows containing non-finite values (stat_density).\""
     ]
    },
    {
     "data": {
      "image/png": "[encoded data removed]",
      "text/plain": [
       "plot without title"
      ]
     },
     "metadata": {},
     "output_type": "display_data"
    },
    {
     "name": "stderr",
     "output_type": "stream",
     "text": [
      "Warning message:\n",
      "\"Removed 38 rows containing non-finite values (stat_bin).\"Warning message:\n",
      "\"Removed 38 rows containing non-finite values (stat_density).\""
     ]
    },
    {
     "data": {
      "image/png": "[encoded data removed]",
      "text/plain": [
       "plot without title"
      ]
     },
     "metadata": {},
     "output_type": "display_data"
    },
    {
     "data": {
      "image/png": "[encoded data removed]",
      "text/plain": [
       "plot without title"
      ]
     },
     "metadata": {},
     "output_type": "display_data"
    }
   ],
   "source": [
    "data_distribution(MSH.Raw[,1:10])\n",
    "data_distribution(MSH.Raw[,11:19])\n",
    "data_distribution(MSH.Raw[,20:29])\n",
    "data_distribution(MSH.Raw[,30:39])\n",
    "data_distribution(MSH.Raw[,40:49])\n",
    "data_distribution(MSH.Raw[,50:59])\n",
    "data_distribution(MSH.Raw[,60:70])"
   ]
  },
  {
   "cell_type": "markdown",
   "metadata": {},
   "source": [
    "After doing reading, I will use the robust  EMbased imputation method, which is the only method in the package that does multiple imputations. For this method, we use both the variance and OLS to fill in the missing values. But, here, we are using the observed data to estimate multiple values at a time. These values should reflect the uncertainty around the true value.\n",
    "\n",
    "I will compare performance between just running the model without the missing cases vs the imputated dataset. If the results converge, I will use the imputated dataset."
   ]
  },
  {
   "cell_type": "code",
   "execution_count": 14,
   "metadata": {},
   "outputs": [
    {
     "name": "stderr",
     "output_type": "stream",
     "text": [
      "Warning message:\n",
      "\"package 'VIM' was built under R version 3.6.3\"Loading required package: colorspace\n",
      "Loading required package: grid\n",
      "VIM is ready to use.\n",
      "\n",
      "Suggestions and bug-reports can be submitted at: https://github.com/statistikat/VIM/issues\n",
      "\n",
      "Attaching package: 'VIM'\n",
      "\n",
      "The following object is masked from 'package:datasets':\n",
      "\n",
      "    sleep\n",
      "\n",
      "Warning message:\n",
      "\"package 'FactoMineR' was built under R version 3.6.3\"Warning message:\n",
      "\"package 'missMDA' was built under R version 3.6.3\"Warning message:\n",
      "\"package 'naniar' was built under R version 3.6.3\"Warning message:\n",
      "\"package 'mice' was built under R version 3.6.3\"\n",
      "Attaching package: 'mice'\n",
      "\n",
      "The following objects are masked from 'package:base':\n",
      "\n",
      "    cbind, rbind\n",
      "\n",
      "Warning message:\n",
      "\"package 'mvnormtest' was built under R version 3.6.3\"Warning message:\n",
      "\"package 'RVAideMemoire' was built under R version 3.6.3\"*** Package RVAideMemoire v 0.9-77 ***\n",
      "\n",
      "Attaching package: 'RVAideMemoire'\n",
      "\n",
      "The following object is masked from 'package:mvnormtest':\n",
      "\n",
      "    mshapiro.test\n",
      "\n"
     ]
    }
   ],
   "source": [
    "library(VIM)\n",
    "library(FactoMineR)\n",
    "library(missMDA)\n",
    "library(naniar)\n",
    "library(mice)\n",
    "library(mvnormtest)\n",
    "library(RVAideMemoire)"
   ]
  },
  {
   "cell_type": "markdown",
   "metadata": {},
   "source": [
    "Might be best to just drop some the columns trait values with a large % of missing data. "
   ]
  },
  {
   "cell_type": "markdown",
   "metadata": {},
   "source": [
    "I will compare K nearest neighbour and median as the method for initialization of missing values and compare the results. The maximum number of iterations, by default, is 100 and the threshold for convergence is 5 (https://www.rdocumentation.org/packages/VIM/versions/4.5.0/topics/irmi)"
   ]
  },
  {
   "cell_type": "markdown",
   "metadata": {},
   "source": [
    "For the trait data, I will simply remove those with a majority of missing cases before running the imputation - I am thinking of using a cut of less than 50%. I will use which to figure which columns fit this condition. I will use both mice and vim. If the data are non-normal, some reccommend predictive mean matching. I will use multivariate test for normality + examine a qqplot to see if the data are normal. If they are not, I will use predictive mean matching from mice. From vim, I will use robust EMbased imputation method. "
   ]
  },
  {
   "cell_type": "code",
   "execution_count": 15,
   "metadata": {},
   "outputs": [],
   "source": [
    "# removing cases with a bunch of zeroes\n",
    "MSH.50 <- MSH.Raw[,names(which(sapply(colnames(MSH.Raw), function (x) {sum(is.na(MSH.Raw[,x]))/nrow(MSH.Raw)<0.5})))]"
   ]
  },
  {
   "cell_type": "code",
   "execution_count": 16,
   "metadata": {},
   "outputs": [
    {
     "name": "stderr",
     "output_type": "stream",
     "text": [
      "Warning message in mean(as.numeric(x), na.rm = TRUE):\n",
      "\"NAs introduced by coercion\"Warning message in mean(as.numeric(x), na.rm = TRUE):\n",
      "\"NAs introduced by coercion\"Warning message in mean(as.numeric(x), na.rm = TRUE):\n",
      "\"NAs introduced by coercion\"Warning message in mean(as.numeric(x), na.rm = TRUE):\n",
      "\"NAs introduced by coercion\""
     ]
    }
   ],
   "source": [
    "# I only want columns that are numeric\n",
    "numeric_columns_msh <- which(apply(MSH.50,2, function (x) !is.na(mean(as.numeric(x), na.rm = TRUE))))\n",
    "numeric_columns_rgr <- which(apply(RGR.Raw,2, function (x) !is.na(mean(as.numeric(x), na.rm = TRUE))))"
   ]
  },
  {
   "cell_type": "markdown",
   "metadata": {},
   "source": [
    "I decided to try mice (pacakge), which has a range of regression-based methods (including) descion trees. To use any of the regression-based options, I need some degree of normality. Allternaivelu, I can use predictive  mean matching, which works well for non-normal data. First, I will check for multivariate normality."
   ]
  },
  {
   "cell_type": "code",
   "execution_count": 17,
   "metadata": {},
   "outputs": [
    {
     "name": "stderr",
     "output_type": "stream",
     "text": [
      "Warning message:\n",
      "\"Number of logged events: 700\""
     ]
    }
   ],
   "source": [
    "MSH.IP.MICE <- mice(data.matrix(MSH.50[,numeric_columns_msh]), \n",
    "               printFlag=FALSE, method = \"pmm\", m = 5, seed = 300)"
   ]
  },
  {
   "cell_type": "code",
   "execution_count": 18,
   "metadata": {},
   "outputs": [
    {
     "name": "stderr",
     "output_type": "stream",
     "text": [
      "Warning message:\n",
      "\"Number of logged events: 35\""
     ]
    }
   ],
   "source": [
    "RGR.IP.MICE <- mice(data.matrix(RGR.Raw[,numeric_columns_rgr]), \n",
    "               printFlag=FALSE, method = \"pmm\", m = 5, seed = 300)"
   ]
  },
  {
   "cell_type": "code",
   "execution_count": 19,
   "metadata": {},
   "outputs": [],
   "source": [
    "MSH.IP.IRMI <- irmi(data.matrix(MSH.50[,numeric_columns_msh]))"
   ]
  },
  {
   "cell_type": "code",
   "execution_count": 20,
   "metadata": {
    "scrolled": true
   },
   "outputs": [
    {
     "ename": "ERROR",
     "evalue": "Error in irmi(data.matrix(RGR.Raw[, numeric_columns_rgr])): Unit non-responses included in x.\n",
     "output_type": "error",
     "traceback": [
      "Error in irmi(data.matrix(RGR.Raw[, numeric_columns_rgr])): Unit non-responses included in x.\nTraceback:\n",
      "1. irmi(data.matrix(RGR.Raw[, numeric_columns_rgr]))",
      "2. stop(\"Unit non-responses included in x.\")"
     ]
    }
   ],
   "source": [
    "RGR.IP.IRMI <- irmi(data.matrix(RGR.Raw[,numeric_columns_rgr]))"
   ]
  },
  {
   "cell_type": "markdown",
   "metadata": {},
   "source": [
    "Now, I will run the imputation on these data. Since I have removed the columns with a large amount of missing cases, the imputation should work. If not, I will set a more stringent condition. "
   ]
  },
  {
   "cell_type": "code",
   "execution_count": 21,
   "metadata": {
    "scrolled": true
   },
   "outputs": [
    {
     "data": {
      "text/plain": [
       "\n",
       "Call:\n",
       "lm(formula = Tree.Height ~ Soil.Depth + Biomass1, data = MSH.50)\n",
       "\n",
       "Residuals:\n",
       "    Min      1Q  Median      3Q     Max \n",
       "-287.09 -102.28  -17.95   90.83  525.30 \n",
       "\n",
       "Coefficients:\n",
       "            Estimate Std. Error t value Pr(>|t|)    \n",
       "(Intercept) 388.7061    18.6338  20.860  < 2e-16 ***\n",
       "Soil.Depth    0.4576     0.5080   0.901    0.368    \n",
       "Biomass1     21.5830     4.4587   4.841 2.07e-06 ***\n",
       "---\n",
       "Signif. codes:  0 '***' 0.001 '**' 0.01 '*' 0.05 '.' 0.1 ' ' 1\n",
       "\n",
       "Residual standard error: 130.9 on 302 degrees of freedom\n",
       "  (90 observations deleted due to missingness)\n",
       "Multiple R-squared:  0.07798,\tAdjusted R-squared:  0.07188 \n",
       "F-statistic: 12.77 on 2 and 302 DF,  p-value: 4.736e-06\n"
      ]
     },
     "metadata": {},
     "output_type": "display_data"
    }
   ],
   "source": [
    "# fit a lm and see if results are comparable between mice output and raw data\n",
    "fit.base_msh = lm(Tree.Height ~ Soil.Depth + Biomass1, data = MSH.50)\n",
    "summary(fit.base_msh)"
   ]
  },
  {
   "cell_type": "code",
   "execution_count": 22,
   "metadata": {},
   "outputs": [
    {
     "data": {
      "text/html": [
       "<table>\n",
       "<thead><tr><th scope=col>term</th><th scope=col>estimate</th><th scope=col>std.error</th><th scope=col>statistic</th><th scope=col>df</th><th scope=col>p.value</th></tr></thead>\n",
       "<tbody>\n",
       "\t<tr><td>(Intercept)</td><td>384.8281843</td><td>19.1912137 </td><td>20.052311  </td><td> 37.51881  </td><td>0.000000000</td></tr>\n",
       "\t<tr><td>Soil.Depth </td><td>  0.7641526</td><td> 0.5491511 </td><td> 1.391516  </td><td> 26.09183  </td><td>0.175820155</td></tr>\n",
       "\t<tr><td>Biomass1   </td><td> 10.8456670</td><td> 3.3986136 </td><td> 3.191203  </td><td>363.13082  </td><td>0.001540272</td></tr>\n",
       "</tbody>\n",
       "</table>\n"
      ],
      "text/latex": [
       "\\begin{tabular}{r|llllll}\n",
       " term & estimate & std.error & statistic & df & p.value\\\\\n",
       "\\hline\n",
       "\t (Intercept) & 384.8281843 & 19.1912137  & 20.052311   &  37.51881   & 0.000000000\\\\\n",
       "\t Soil.Depth  &   0.7641526 &  0.5491511  &  1.391516   &  26.09183   & 0.175820155\\\\\n",
       "\t Biomass1    &  10.8456670 &  3.3986136  &  3.191203   & 363.13082   & 0.001540272\\\\\n",
       "\\end{tabular}\n"
      ],
      "text/markdown": [
       "\n",
       "| term | estimate | std.error | statistic | df | p.value |\n",
       "|---|---|---|---|---|---|\n",
       "| (Intercept) | 384.8281843 | 19.1912137  | 20.052311   |  37.51881   | 0.000000000 |\n",
       "| Soil.Depth  |   0.7641526 |  0.5491511  |  1.391516   |  26.09183   | 0.175820155 |\n",
       "| Biomass1    |  10.8456670 |  3.3986136  |  3.191203   | 363.13082   | 0.001540272 |\n",
       "\n"
      ],
      "text/plain": [
       "  term        estimate    std.error  statistic df        p.value    \n",
       "1 (Intercept) 384.8281843 19.1912137 20.052311  37.51881 0.000000000\n",
       "2 Soil.Depth    0.7641526  0.5491511  1.391516  26.09183 0.175820155\n",
       "3 Biomass1     10.8456670  3.3986136  3.191203 363.13082 0.001540272"
      ]
     },
     "metadata": {},
     "output_type": "display_data"
    }
   ],
   "source": [
    "# build a model using dataset from mice, for all 5 of them\n",
    "fit.mice_msh <- with(data = MSH.IP.MICE, exp = lm(Tree.Height ~ Soil.Depth + Biomass1))\n",
    "\n",
    "# pool results together \n",
    "combFit_msh <- pool(fit.mice_msh) \n",
    "# Note that the function pool() works for any object having BOTH coef() and vcov() methods, such as lm, glm and Arima, also for lme in nlme package.\n",
    "summary(combFit_msh)"
   ]
  },
  {
   "cell_type": "markdown",
   "metadata": {},
   "source": [
    "Some difference in regression coeffcients, but the same relationship and significance for trait data. I will use both datasets in the ML anyway."
   ]
  },
  {
   "cell_type": "code",
   "execution_count": 23,
   "metadata": {},
   "outputs": [
    {
     "data": {
      "text/plain": [
       "\n",
       "Call:\n",
       "lm(formula = BA.0.2006 ~ BA.0.2010 + BA.0.2011, data = RGR.Raw)\n",
       "\n",
       "Residuals:\n",
       "    Min      1Q  Median      3Q     Max \n",
       "-9.8455 -0.9792 -0.0301  0.9225 17.7240 \n",
       "\n",
       "Coefficients:\n",
       "            Estimate Std. Error t value Pr(>|t|)    \n",
       "(Intercept)  0.01722    0.21865   0.079    0.937    \n",
       "BA.0.2010    2.11577    0.08256  25.628   <2e-16 ***\n",
       "BA.0.2011   -1.37948    0.07650 -18.032   <2e-16 ***\n",
       "---\n",
       "Signif. codes:  0 '***' 0.001 '**' 0.01 '*' 0.05 '.' 0.1 ' ' 1\n",
       "\n",
       "Residual standard error: 2.47 on 382 degrees of freedom\n",
       "  (10 observations deleted due to missingness)\n",
       "Multiple R-squared:  0.8471,\tAdjusted R-squared:  0.8463 \n",
       "F-statistic:  1058 on 2 and 382 DF,  p-value: < 2.2e-16\n"
      ]
     },
     "metadata": {},
     "output_type": "display_data"
    }
   ],
   "source": [
    "fit.base_rgr = lm(BA.0.2006 ~ BA.0.2010 + BA.0.2011, data = RGR.Raw)\n",
    "summary(fit.base_rgr)"
   ]
  },
  {
   "cell_type": "code",
   "execution_count": 24,
   "metadata": {},
   "outputs": [
    {
     "data": {
      "text/html": [
       "<table>\n",
       "<thead><tr><th scope=col>term</th><th scope=col>estimate</th><th scope=col>std.error</th><th scope=col>statistic</th><th scope=col>df</th><th scope=col>p.value</th></tr></thead>\n",
       "<tbody>\n",
       "\t<tr><td>(Intercept)</td><td> 0.1388159 </td><td>0.24912999 </td><td>  0.5572025</td><td>136.0665   </td><td>0.5783045  </td></tr>\n",
       "\t<tr><td>BA.0.2010  </td><td> 2.0751696 </td><td>0.08790250 </td><td> 23.6076284</td><td>189.1312   </td><td>0.0000000  </td></tr>\n",
       "\t<tr><td>BA.0.2011  </td><td>-1.3484780 </td><td>0.08236159 </td><td>-16.3726556</td><td>147.0554   </td><td>0.0000000  </td></tr>\n",
       "</tbody>\n",
       "</table>\n"
      ],
      "text/latex": [
       "\\begin{tabular}{r|llllll}\n",
       " term & estimate & std.error & statistic & df & p.value\\\\\n",
       "\\hline\n",
       "\t (Intercept) &  0.1388159  & 0.24912999  &   0.5572025 & 136.0665    & 0.5783045  \\\\\n",
       "\t BA.0.2010   &  2.0751696  & 0.08790250  &  23.6076284 & 189.1312    & 0.0000000  \\\\\n",
       "\t BA.0.2011   & -1.3484780  & 0.08236159  & -16.3726556 & 147.0554    & 0.0000000  \\\\\n",
       "\\end{tabular}\n"
      ],
      "text/markdown": [
       "\n",
       "| term | estimate | std.error | statistic | df | p.value |\n",
       "|---|---|---|---|---|---|\n",
       "| (Intercept) |  0.1388159  | 0.24912999  |   0.5572025 | 136.0665    | 0.5783045   |\n",
       "| BA.0.2010   |  2.0751696  | 0.08790250  |  23.6076284 | 189.1312    | 0.0000000   |\n",
       "| BA.0.2011   | -1.3484780  | 0.08236159  | -16.3726556 | 147.0554    | 0.0000000   |\n",
       "\n"
      ],
      "text/plain": [
       "  term        estimate   std.error  statistic   df       p.value  \n",
       "1 (Intercept)  0.1388159 0.24912999   0.5572025 136.0665 0.5783045\n",
       "2 BA.0.2010    2.0751696 0.08790250  23.6076284 189.1312 0.0000000\n",
       "3 BA.0.2011   -1.3484780 0.08236159 -16.3726556 147.0554 0.0000000"
      ]
     },
     "metadata": {},
     "output_type": "display_data"
    }
   ],
   "source": [
    "fit.mice_rgr <- with(data = RGR.IP.MICE, exp = lm(BA.0.2006 ~ BA.0.2010 + BA.0.2011))\n",
    "\n",
    "# pool results together \n",
    "combFit_rgr <- pool(fit.mice_rgr) \n",
    "# Note that the function pool() works for any object having BOTH coef() and vcov() methods, such as lm, glm and Arima, also for lme in nlme package.\n",
    "summary(combFit_rgr)"
   ]
  },
  {
   "cell_type": "markdown",
   "metadata": {},
   "source": [
    "No real difference in beta, and the same relationship and significance. I will use both datasets in the ML anyway."
   ]
  },
  {
   "cell_type": "markdown",
   "metadata": {},
   "source": [
    "# Growth Rate"
   ]
  },
  {
   "cell_type": "markdown",
   "metadata": {},
   "source": [
    "# Conclusion"
   ]
  }
 ],
 "metadata": {
  "kernelspec": {
   "display_name": "R",
   "language": "R",
   "name": "ir"
  },
  "language_info": {
   "codemirror_mode": "r",
   "file_extension": ".r",
   "mimetype": "text/x-r-source",
   "name": "R",
   "pygments_lexer": "r",
   "version": "3.6.1"
  }
 },
 "nbformat": 4,
 "nbformat_minor": 4
}
