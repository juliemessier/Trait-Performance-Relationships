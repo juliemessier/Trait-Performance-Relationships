{
 "cells": [
  {
   "cell_type": "markdown",
   "metadata": {},
   "source": [
    "# Data Exploration"
   ]
  },
  {
   "cell_type": "code",
   "execution_count": 1,
   "metadata": {},
   "outputs": [],
   "source": [
    "RGR.Raw <- read.csv(\"C:/Users/jodyn/OneDrive/Github/Trait-Performance-Relationships/data/RGR.csv\")\n",
    "MSH.Raw <- read.csv(\"C:/Users/jodyn/OneDrive/Github/Trait-Performance-Relationships/data/MSH all data_July2015.csv\")"
   ]
  },
  {
   "cell_type": "code",
   "execution_count": 2,
   "metadata": {},
   "outputs": [
    {
     "data": {
      "text/html": [
       "<table>\n",
       "<thead><tr><th scope=col>SampleID</th><th scope=col>BA.0.2006</th><th scope=col>BA.0.2007</th><th scope=col>BA.0.2008</th><th scope=col>BA.0.2009</th><th scope=col>BA.0.2010</th><th scope=col>BA.0.2011</th></tr></thead>\n",
       "<tbody>\n",
       "\t<tr><td>J10ACSA19</td><td>12.018423</td><td>       NA</td><td>       NA</td><td>       NA</td><td>       NA</td><td>12.437202</td></tr>\n",
       "\t<tr><td>J10AMSP12</td><td>11.916452</td><td>12.604177</td><td>13.434528</td><td>14.603302</td><td>15.698010</td><td>16.527046</td></tr>\n",
       "\t<tr><td>J10AMSP13</td><td> 4.978399</td><td> 5.334679</td><td> 5.961424</td><td> 6.940494</td><td> 8.224628</td><td> 9.186387</td></tr>\n",
       "\t<tr><td>J10FAG15 </td><td> 6.611162</td><td> 7.442033</td><td> 8.581504</td><td> 9.681168</td><td>10.510053</td><td>11.293637</td></tr>\n",
       "\t<tr><td>J10FRA19 </td><td>10.509488</td><td>10.799639</td><td>11.158824</td><td>11.554593</td><td>12.002439</td><td>12.548089</td></tr>\n",
       "\t<tr><td>J10OSV19 </td><td> 1.857446</td><td> 2.135612</td><td> 2.383083</td><td> 2.551090</td><td> 2.824035</td><td> 3.094184</td></tr>\n",
       "</tbody>\n",
       "</table>\n"
      ],
      "text/latex": [
       "\\begin{tabular}{r|lllllll}\n",
       " SampleID & BA.0.2006 & BA.0.2007 & BA.0.2008 & BA.0.2009 & BA.0.2010 & BA.0.2011\\\\\n",
       "\\hline\n",
       "\t J10ACSA19 & 12.018423 &        NA &        NA &        NA &        NA & 12.437202\\\\\n",
       "\t J10AMSP12 & 11.916452 & 12.604177 & 13.434528 & 14.603302 & 15.698010 & 16.527046\\\\\n",
       "\t J10AMSP13 &  4.978399 &  5.334679 &  5.961424 &  6.940494 &  8.224628 &  9.186387\\\\\n",
       "\t J10FAG15  &  6.611162 &  7.442033 &  8.581504 &  9.681168 & 10.510053 & 11.293637\\\\\n",
       "\t J10FRA19  & 10.509488 & 10.799639 & 11.158824 & 11.554593 & 12.002439 & 12.548089\\\\\n",
       "\t J10OSV19  &  1.857446 &  2.135612 &  2.383083 &  2.551090 &  2.824035 &  3.094184\\\\\n",
       "\\end{tabular}\n"
      ],
      "text/markdown": [
       "\n",
       "| SampleID | BA.0.2006 | BA.0.2007 | BA.0.2008 | BA.0.2009 | BA.0.2010 | BA.0.2011 |\n",
       "|---|---|---|---|---|---|---|\n",
       "| J10ACSA19 | 12.018423 |        NA |        NA |        NA |        NA | 12.437202 |\n",
       "| J10AMSP12 | 11.916452 | 12.604177 | 13.434528 | 14.603302 | 15.698010 | 16.527046 |\n",
       "| J10AMSP13 |  4.978399 |  5.334679 |  5.961424 |  6.940494 |  8.224628 |  9.186387 |\n",
       "| J10FAG15  |  6.611162 |  7.442033 |  8.581504 |  9.681168 | 10.510053 | 11.293637 |\n",
       "| J10FRA19  | 10.509488 | 10.799639 | 11.158824 | 11.554593 | 12.002439 | 12.548089 |\n",
       "| J10OSV19  |  1.857446 |  2.135612 |  2.383083 |  2.551090 |  2.824035 |  3.094184 |\n",
       "\n"
      ],
      "text/plain": [
       "  SampleID  BA.0.2006 BA.0.2007 BA.0.2008 BA.0.2009 BA.0.2010 BA.0.2011\n",
       "1 J10ACSA19 12.018423        NA        NA        NA        NA 12.437202\n",
       "2 J10AMSP12 11.916452 12.604177 13.434528 14.603302 15.698010 16.527046\n",
       "3 J10AMSP13  4.978399  5.334679  5.961424  6.940494  8.224628  9.186387\n",
       "4 J10FAG15   6.611162  7.442033  8.581504  9.681168 10.510053 11.293637\n",
       "5 J10FRA19  10.509488 10.799639 11.158824 11.554593 12.002439 12.548089\n",
       "6 J10OSV19   1.857446  2.135612  2.383083  2.551090  2.824035  3.094184"
      ]
     },
     "metadata": {},
     "output_type": "display_data"
    }
   ],
   "source": [
    "# what do these  data look like?\n",
    "head(RGR.Raw)"
   ]
  },
  {
   "cell_type": "code",
   "execution_count": 3,
   "metadata": {},
   "outputs": [
    {
     "data": {
      "text/html": [
       "<table>\n",
       "<thead><tr><th scope=col>Sample.ID</th><th scope=col>Height.DBH.Ratio</th><th scope=col>Estem</th><th scope=col>Etwig</th><th scope=col>Branching.Distance</th><th scope=col>Twig.Diameter</th><th scope=col>Twig.Wood.Density</th><th scope=col>Stem.Wood.Density</th><th scope=col>Leaf.Mass.Fraction</th><th scope=col>Leaf.Area</th><th scope=col>...</th><th scope=col>Leaf.Thickness</th><th scope=col>Leaf.Density</th><th scope=col>C.N</th><th scope=col>C.P</th><th scope=col>N.P</th><th scope=col>Kl</th><th scope=col>Kleaf</th><th scope=col>Biomass1</th><th scope=col>pcent.max.Bio1</th><th scope=col>Total.Transmitted.Light</th></tr></thead>\n",
       "<tbody>\n",
       "\t<tr><td>J10ACSA19  </td><td>120.00000  </td><td>2807.719   </td><td>368.4968   </td><td>16.750000  </td><td>5.440      </td><td>0.6568855  </td><td>0.7900303  </td><td>0.8552029  </td><td> 43.42781  </td><td>...        </td><td>0.0938     </td><td>0.3864892  </td><td>25.47644   </td><td>5.815661   </td><td>0.2282760  </td><td> 453.3973  </td><td>0.2043562  </td><td>0.06979659 </td><td>0.006456624</td><td>2.425      </td></tr>\n",
       "\t<tr><td>J10AMSP12  </td><td> 98.29268  </td><td>2012.670   </td><td>539.4002   </td><td> 8.000000  </td><td>4.395      </td><td>0.6276060  </td><td>0.8900391  </td><td>1.0007018  </td><td> 13.62967  </td><td>...        </td><td>0.1218     </td><td>0.3794966  </td><td>18.72918   </td><td>4.112673   </td><td>0.2195864  </td><td> 306.8134  </td><td>0.7228903  </td><td>0.82903646 </td><td>0.227458171</td><td>3.890      </td></tr>\n",
       "\t<tr><td>J10AMSP13  </td><td>160.66667  </td><td>7055.698   </td><td>378.0921   </td><td>11.368421  </td><td>5.400      </td><td>0.6641150  </td><td>0.8772109  </td><td>0.6397234  </td><td> 18.23260  </td><td>...        </td><td>0.1334     </td><td>0.3663307  </td><td>21.29783   </td><td>4.364887   </td><td>0.2049452  </td><td> 259.7530  </td><td>0.4825453  </td><td>0.96175893 </td><td>0.279222457</td><td>4.590      </td></tr>\n",
       "\t<tr><td>J10FAG15   </td><td>141.42857  </td><td>3871.404   </td><td>722.9500   </td><td> 9.777778  </td><td>3.725      </td><td>0.6042533  </td><td>0.7510540  </td><td>1.5427180  </td><td> 51.98562  </td><td>...        </td><td>0.0854     </td><td>0.4024881  </td><td>21.06370   </td><td>4.721752   </td><td>0.2241654  </td><td> 349.5795  </td><td>0.6831540  </td><td>0.78358389 </td><td>0.190223535</td><td>2.980      </td></tr>\n",
       "\t<tr><td>J10FRA19   </td><td>113.94737  </td><td>3121.343   </td><td>113.9802   </td><td>56.000000  </td><td>8.935      </td><td>0.5481215  </td><td>0.7678219  </td><td>1.1889349  </td><td>354.28250  </td><td>...        </td><td>0.0924     </td><td>0.4778804  </td><td>18.15457   </td><td>3.843781   </td><td>0.2117253  </td><td>2310.4256  </td><td>0.4141856  </td><td>0.54564968 </td><td>0.188202909</td><td>6.500      </td></tr>\n",
       "\t<tr><td>J10OSV19   </td><td>193.33333  </td><td>4496.479   </td><td>684.6123   </td><td> 8.285714  </td><td>3.760      </td><td>0.5830135  </td><td>0.7995936  </td><td>1.5381013  </td><td> 19.58762  </td><td>...        </td><td>0.1070     </td><td>0.3369430  </td><td>22.02248   </td><td>5.631711   </td><td>0.2557255  </td><td> 578.3284  </td><td>1.6445056  </td><td>0.27014928 </td><td>0.180795948</td><td>2.820      </td></tr>\n",
       "</tbody>\n",
       "</table>\n"
      ],
      "text/latex": [
       "\\begin{tabular}{r|llllllllllllllllllllllllllllllllllllllllllllllllllllllllllllllllllllll}\n",
       " Sample.ID & Height.DBH.Ratio & Estem & Etwig & Branching.Distance & Twig.Diameter & Twig.Wood.Density & Stem.Wood.Density & Leaf.Mass.Fraction & Leaf.Area & ... & Leaf.Thickness & Leaf.Density & C.N & C.P & N.P & Kl & Kleaf & Biomass1 & pcent.max.Bio1 & Total.Transmitted.Light\\\\\n",
       "\\hline\n",
       "\t J10ACSA19   & 120.00000   & 2807.719    & 368.4968    & 16.750000   & 5.440       & 0.6568855   & 0.7900303   & 0.8552029   &  43.42781   & ...         & 0.0938      & 0.3864892   & 25.47644    & 5.815661    & 0.2282760   &  453.3973   & 0.2043562   & 0.06979659  & 0.006456624 & 2.425      \\\\\n",
       "\t J10AMSP12   &  98.29268   & 2012.670    & 539.4002    &  8.000000   & 4.395       & 0.6276060   & 0.8900391   & 1.0007018   &  13.62967   & ...         & 0.1218      & 0.3794966   & 18.72918    & 4.112673    & 0.2195864   &  306.8134   & 0.7228903   & 0.82903646  & 0.227458171 & 3.890      \\\\\n",
       "\t J10AMSP13   & 160.66667   & 7055.698    & 378.0921    & 11.368421   & 5.400       & 0.6641150   & 0.8772109   & 0.6397234   &  18.23260   & ...         & 0.1334      & 0.3663307   & 21.29783    & 4.364887    & 0.2049452   &  259.7530   & 0.4825453   & 0.96175893  & 0.279222457 & 4.590      \\\\\n",
       "\t J10FAG15    & 141.42857   & 3871.404    & 722.9500    &  9.777778   & 3.725       & 0.6042533   & 0.7510540   & 1.5427180   &  51.98562   & ...         & 0.0854      & 0.4024881   & 21.06370    & 4.721752    & 0.2241654   &  349.5795   & 0.6831540   & 0.78358389  & 0.190223535 & 2.980      \\\\\n",
       "\t J10FRA19    & 113.94737   & 3121.343    & 113.9802    & 56.000000   & 8.935       & 0.5481215   & 0.7678219   & 1.1889349   & 354.28250   & ...         & 0.0924      & 0.4778804   & 18.15457    & 3.843781    & 0.2117253   & 2310.4256   & 0.4141856   & 0.54564968  & 0.188202909 & 6.500      \\\\\n",
       "\t J10OSV19    & 193.33333   & 4496.479    & 684.6123    &  8.285714   & 3.760       & 0.5830135   & 0.7995936   & 1.5381013   &  19.58762   & ...         & 0.1070      & 0.3369430   & 22.02248    & 5.631711    & 0.2557255   &  578.3284   & 1.6445056   & 0.27014928  & 0.180795948 & 2.820      \\\\\n",
       "\\end{tabular}\n"
      ],
      "text/markdown": [
       "\n",
       "| Sample.ID | Height.DBH.Ratio | Estem | Etwig | Branching.Distance | Twig.Diameter | Twig.Wood.Density | Stem.Wood.Density | Leaf.Mass.Fraction | Leaf.Area | ... | Leaf.Thickness | Leaf.Density | C.N | C.P | N.P | Kl | Kleaf | Biomass1 | pcent.max.Bio1 | Total.Transmitted.Light |\n",
       "|---|---|---|---|---|---|---|---|---|---|---|---|---|---|---|---|---|---|---|---|---|\n",
       "| J10ACSA19   | 120.00000   | 2807.719    | 368.4968    | 16.750000   | 5.440       | 0.6568855   | 0.7900303   | 0.8552029   |  43.42781   | ...         | 0.0938      | 0.3864892   | 25.47644    | 5.815661    | 0.2282760   |  453.3973   | 0.2043562   | 0.06979659  | 0.006456624 | 2.425       |\n",
       "| J10AMSP12   |  98.29268   | 2012.670    | 539.4002    |  8.000000   | 4.395       | 0.6276060   | 0.8900391   | 1.0007018   |  13.62967   | ...         | 0.1218      | 0.3794966   | 18.72918    | 4.112673    | 0.2195864   |  306.8134   | 0.7228903   | 0.82903646  | 0.227458171 | 3.890       |\n",
       "| J10AMSP13   | 160.66667   | 7055.698    | 378.0921    | 11.368421   | 5.400       | 0.6641150   | 0.8772109   | 0.6397234   |  18.23260   | ...         | 0.1334      | 0.3663307   | 21.29783    | 4.364887    | 0.2049452   |  259.7530   | 0.4825453   | 0.96175893  | 0.279222457 | 4.590       |\n",
       "| J10FAG15    | 141.42857   | 3871.404    | 722.9500    |  9.777778   | 3.725       | 0.6042533   | 0.7510540   | 1.5427180   |  51.98562   | ...         | 0.0854      | 0.4024881   | 21.06370    | 4.721752    | 0.2241654   |  349.5795   | 0.6831540   | 0.78358389  | 0.190223535 | 2.980       |\n",
       "| J10FRA19    | 113.94737   | 3121.343    | 113.9802    | 56.000000   | 8.935       | 0.5481215   | 0.7678219   | 1.1889349   | 354.28250   | ...         | 0.0924      | 0.4778804   | 18.15457    | 3.843781    | 0.2117253   | 2310.4256   | 0.4141856   | 0.54564968  | 0.188202909 | 6.500       |\n",
       "| J10OSV19    | 193.33333   | 4496.479    | 684.6123    |  8.285714   | 3.760       | 0.5830135   | 0.7995936   | 1.5381013   |  19.58762   | ...         | 0.1070      | 0.3369430   | 22.02248    | 5.631711    | 0.2557255   |  578.3284   | 1.6445056   | 0.27014928  | 0.180795948 | 2.820       |\n",
       "\n"
      ],
      "text/plain": [
       "  Sample.ID Height.DBH.Ratio Estem    Etwig    Branching.Distance Twig.Diameter\n",
       "1 J10ACSA19 120.00000        2807.719 368.4968 16.750000          5.440        \n",
       "2 J10AMSP12  98.29268        2012.670 539.4002  8.000000          4.395        \n",
       "3 J10AMSP13 160.66667        7055.698 378.0921 11.368421          5.400        \n",
       "4 J10FAG15  141.42857        3871.404 722.9500  9.777778          3.725        \n",
       "5 J10FRA19  113.94737        3121.343 113.9802 56.000000          8.935        \n",
       "6 J10OSV19  193.33333        4496.479 684.6123  8.285714          3.760        \n",
       "  Twig.Wood.Density Stem.Wood.Density Leaf.Mass.Fraction Leaf.Area ...\n",
       "1 0.6568855         0.7900303         0.8552029           43.42781 ...\n",
       "2 0.6276060         0.8900391         1.0007018           13.62967 ...\n",
       "3 0.6641150         0.8772109         0.6397234           18.23260 ...\n",
       "4 0.6042533         0.7510540         1.5427180           51.98562 ...\n",
       "5 0.5481215         0.7678219         1.1889349          354.28250 ...\n",
       "6 0.5830135         0.7995936         1.5381013           19.58762 ...\n",
       "  Leaf.Thickness Leaf.Density C.N      C.P      N.P       Kl        Kleaf    \n",
       "1 0.0938         0.3864892    25.47644 5.815661 0.2282760  453.3973 0.2043562\n",
       "2 0.1218         0.3794966    18.72918 4.112673 0.2195864  306.8134 0.7228903\n",
       "3 0.1334         0.3663307    21.29783 4.364887 0.2049452  259.7530 0.4825453\n",
       "4 0.0854         0.4024881    21.06370 4.721752 0.2241654  349.5795 0.6831540\n",
       "5 0.0924         0.4778804    18.15457 3.843781 0.2117253 2310.4256 0.4141856\n",
       "6 0.1070         0.3369430    22.02248 5.631711 0.2557255  578.3284 1.6445056\n",
       "  Biomass1   pcent.max.Bio1 Total.Transmitted.Light\n",
       "1 0.06979659 0.006456624    2.425                  \n",
       "2 0.82903646 0.227458171    3.890                  \n",
       "3 0.96175893 0.279222457    4.590                  \n",
       "4 0.78358389 0.190223535    2.980                  \n",
       "5 0.54564968 0.188202909    6.500                  \n",
       "6 0.27014928 0.180795948    2.820                  "
      ]
     },
     "metadata": {},
     "output_type": "display_data"
    }
   ],
   "source": [
    "head(MSH.Raw)"
   ]
  },
  {
   "cell_type": "code",
   "execution_count": 4,
   "metadata": {},
   "outputs": [
    {
     "data": {
      "text/plain": [
       "      SampleID     BA.0.2006        BA.0.2007        BA.0.2008       \n",
       " J10ACSA19:  1   Min.   : 0.000   Min.   : 0.000   Min.   : 0.03022  \n",
       " J10AMSP12:  1   1st Qu.: 2.520   1st Qu.: 2.997   1st Qu.: 3.73021  \n",
       " J10AMSP13:  1   Median : 5.154   Median : 5.927   Median : 7.18908  \n",
       " J10FAG15 :  1   Mean   : 6.843   Mean   : 7.785   Mean   : 8.87275  \n",
       " J10FRA19 :  1   3rd Qu.: 9.998   3rd Qu.:11.342   3rd Qu.:12.68398  \n",
       " J10OSV19 :  1   Max.   :50.227   Max.   :51.515   Max.   :52.24834  \n",
       " (Other)  :389   NA's   :9        NA's   :10       NA's   :10        \n",
       "   BA.0.2009          BA.0.2010         BA.0.2011      \n",
       " Min.   : 0.07587   Min.   : 0.1405   Min.   : 0.1698  \n",
       " 1st Qu.: 4.22058   1st Qu.: 5.1713   1st Qu.: 5.6799  \n",
       " Median : 8.73336   Median : 9.9011   Median :11.0224  \n",
       " Mean   :10.11508   Mean   :11.3666   Mean   :12.4946  \n",
       " 3rd Qu.:14.51579   3rd Qu.:15.6971   3rd Qu.:16.6885  \n",
       " Max.   :52.78817   Max.   :57.1875   Max.   :58.0746  \n",
       " NA's   :10         NA's   :10        NA's   :9        "
      ]
     },
     "metadata": {},
     "output_type": "display_data"
    }
   ],
   "source": [
    "summary(RGR.Raw)"
   ]
  },
  {
   "cell_type": "markdown",
   "metadata": {},
   "source": [
    "It's clear that we have a bunch of NAs in the growth rate data. I am curious as to whether this is the same with tthe other dataset."
   ]
  },
  {
   "cell_type": "code",
   "execution_count": 5,
   "metadata": {},
   "outputs": [
    {
     "data": {
      "text/plain": [
       "     Sample.ID   Height.DBH.Ratio     Estem             Etwig        \n",
       " J10ACSA19:  1   Min.   : 66.27   Min.   :  360.9   Min.   :  22.95  \n",
       " J10AMSP12:  1   1st Qu.:120.00   1st Qu.: 1670.4   1st Qu.: 201.00  \n",
       " J10AMSP13:  1   Median :144.62   Median : 3158.5   Median : 312.16  \n",
       " J10FAG15 :  1   Mean   :149.74   Mean   : 4056.5   Mean   : 343.40  \n",
       " J10FRA19 :  1   3rd Qu.:173.81   3rd Qu.: 5437.7   3rd Qu.: 431.57  \n",
       " J10OSV19 :  1   Max.   :292.00   Max.   :21146.1   Max.   :1124.22  \n",
       " (Other)  :389                                                       \n",
       " Branching.Distance Twig.Diameter    Twig.Wood.Density Stem.Wood.Density\n",
       " Min.   :  5.133    Min.   : 3.025   Min.   :0.2697    Min.   :0.2648   \n",
       " 1st Qu.: 11.093    1st Qu.: 4.455   1st Qu.:0.4559    1st Qu.:0.5167   \n",
       " Median : 16.143    Median : 5.150   Median :0.5115    Median :0.6050   \n",
       " Mean   : 23.934    Mean   : 5.579   Mean   :0.5018    Mean   :0.6162   \n",
       " 3rd Qu.: 27.300    3rd Qu.: 6.250   3rd Qu.:0.5538    3rd Qu.:0.7274   \n",
       " Max.   :100.000    Max.   :15.595   Max.   :0.6760    Max.   :0.8974   \n",
       "                                                                        \n",
       " Leaf.Mass.Fraction   Leaf.Area            LMA              LCC       \n",
       " Min.   :0.2368     Min.   :  3.744   Min.   : 17.46   Min.   :41.73  \n",
       " 1st Qu.:0.8101     1st Qu.: 18.280   1st Qu.: 32.96   1st Qu.:46.06  \n",
       " Median :1.1552     Median : 29.785   Median : 45.39   Median :47.62  \n",
       " Mean   :1.2909     Mean   : 59.364   Mean   : 52.56   Mean   :47.50  \n",
       " 3rd Qu.:1.6457     3rd Qu.: 61.925   3rd Qu.: 67.76   3rd Qu.:49.13  \n",
       " Max.   :3.5337     Max.   :474.458   Max.   :134.22   Max.   :52.51  \n",
       "                                                                      \n",
       "      LNC             LPC              d15N              t.b2         \n",
       " Min.   :1.422   Min.   : 5.541   Min.   :-9.0360   Min.   :0.000763  \n",
       " 1st Qu.:2.338   1st Qu.:12.066   1st Qu.:-4.1054   1st Qu.:0.019150  \n",
       " Median :2.678   Median :14.470   Median :-2.2042   Median :0.023559  \n",
       " Mean   :2.692   Mean   :15.387   Mean   :-2.2299   Mean   :0.025014  \n",
       " 3rd Qu.:3.005   3rd Qu.:17.835   3rd Qu.:-0.7519   3rd Qu.:0.030276  \n",
       " Max.   :4.178   Max.   :41.302   Max.   :16.1918   Max.   :0.058033  \n",
       "                                                    NA's   :7         \n",
       "       Ks             Ktwig          Huber.Value           X.Lum        \n",
       " Min.   : 10.98   Min.   :  90.73   Min.   :0.001464   Min.   :0.03557  \n",
       " 1st Qu.: 39.29   1st Qu.: 622.43   1st Qu.:0.005618   1st Qu.:0.10039  \n",
       " Median : 57.40   Median : 899.15   Median :0.008398   Median :0.12917  \n",
       " Mean   :117.03   Mean   :1156.31   Mean   :0.144043   Mean   :0.13283  \n",
       " 3rd Qu.:122.21   3rd Qu.:1331.78   3rd Qu.:0.016570   3rd Qu.:0.16149  \n",
       " Max.   :985.83   Max.   :7135.09   Max.   :5.996164   Max.   :0.27817  \n",
       " NA's   :8        NA's   :8         NA's   :4          NA's   :8        \n",
       "       VD          X.Sapwood             d13C           Biomass5       \n",
       " Min.   : 1989   Min.   :0.008919   Min.   :-33.83   Min.   : 0.03194  \n",
       " 1st Qu.: 5196   1st Qu.:0.720334   1st Qu.:-31.36   1st Qu.: 1.68590  \n",
       " Median : 6766   Median :0.903682   Median :-30.42   Median : 3.93053  \n",
       " Mean   :10521   Mean   :0.764843   Mean   :-30.23   Mean   : 6.18119  \n",
       " 3rd Qu.:10350   3rd Qu.:0.958071   3rd Qu.:-29.31   3rd Qu.: 7.62962  \n",
       " Max.   :53249   Max.   :0.995840   Max.   :-25.82   Max.   :86.05632  \n",
       " NA's   :8       NA's   :4                           NA's   :11        \n",
       " pcent.max.Bio5    Symmetric.Competition Asymmetric.Competition\n",
       " Min.   :0.00064   Min.   : 0.02211      Min.   :  0.2183      \n",
       " 1st Qu.:0.08559   1st Qu.: 0.60962      1st Qu.:  4.4317      \n",
       " Median :0.21163   Median : 1.32468      Median : 13.0804      \n",
       " Mean   :0.31163   Mean   : 2.73148      Mean   : 20.2829      \n",
       " 3rd Qu.:0.44769   3rd Qu.: 3.26488      3rd Qu.: 27.5519      \n",
       " Max.   :1.00000   Max.   :27.05838      Max.   :149.3086      \n",
       " NA's   :11        NA's   :9             NA's   :9             \n",
       " Soil.Humidity            pH          Organic.C            N          \n",
       " Min.   :0.003667   Min.   :3.610   Min.   : 0.685   Min.   :0.00767  \n",
       " 1st Qu.:0.061000   1st Qu.:4.570   1st Qu.: 3.243   1st Qu.:0.10256  \n",
       " Median :0.105333   Median :5.090   Median : 7.446   Median :0.26921  \n",
       " Mean   :0.154794   Mean   :5.127   Mean   :11.082   Mean   :0.45507  \n",
       " 3rd Qu.:0.185833   3rd Qu.:5.660   3rd Qu.:14.375   3rd Qu.:0.58487  \n",
       " Max.   :1.000000   Max.   :7.190   Max.   :44.288   Max.   :2.10879  \n",
       "                    NA's   :130     NA's   :130      NA's   :130      \n",
       "       P                 K                Ca                Mg         \n",
       " Min.   :  2.156   Min.   : 24.25   Min.   :  116.9   Min.   :  9.412  \n",
       " 1st Qu.: 12.023   1st Qu.: 67.22   1st Qu.:  505.8   1st Qu.: 40.225  \n",
       " Median : 18.102   Median :112.80   Median : 1351.8   Median : 78.692  \n",
       " Mean   : 32.243   Mean   :138.25   Mean   : 2075.0   Mean   :107.013  \n",
       " 3rd Qu.: 33.927   3rd Qu.:189.70   3rd Qu.: 2564.6   3rd Qu.:149.282  \n",
       " Max.   :322.539   Max.   :533.14   Max.   :14134.2   Max.   :615.695  \n",
       " NA's   :130       NA's   :130      NA's   :130       NA's   :130      \n",
       "   Soil.Depth        Slope         North.Aspect      East.Aspect      \n",
       " Min.   : 3.00   Min.   : 0.000   Min.   :-1.0000   Min.   :-0.99939  \n",
       " 1st Qu.:21.00   1st Qu.: 0.000   1st Qu.:-0.5150   1st Qu.: 0.00000  \n",
       " Median :30.00   Median : 5.300   Median : 0.0000   Median : 0.00000  \n",
       " Mean   :33.19   Mean   : 8.655   Mean   :-0.1691   Mean   : 0.05946  \n",
       " 3rd Qu.:46.00   3rd Qu.:15.000   3rd Qu.: 0.0000   3rd Qu.: 0.24192  \n",
       " Max.   :55.00   Max.   :39.600   Max.   : 0.9903   Max.   : 1.00000  \n",
       " NA's   :82                                                           \n",
       "   Elevation       Summer.Max       Fall.Min        Mean.Temp    \n",
       " Min.   : 40.0   Min.   :24.17   Min.   :-14.67   Min.   :12.31  \n",
       " 1st Qu.: 81.5   1st Qu.:26.17   1st Qu.:-10.83   1st Qu.:13.32  \n",
       " Median :146.0   Median :26.67   Median :-10.50   Median :13.83  \n",
       " Mean   :142.5   Mean   :27.17   Mean   :-10.22   Mean   :13.72  \n",
       " 3rd Qu.:200.0   3rd Qu.:27.75   3rd Qu.: -9.50   3rd Qu.:14.10  \n",
       " Max.   :350.0   Max.   :32.17   Max.   : -8.00   Max.   :14.67  \n",
       "                                                                 \n",
       " X.Canopy.Opening    Species                 Site        Tree.Age    \n",
       " Min.   : 1.060   AMSP   : 22   Research Center: 46   Min.   : 5.00  \n",
       " 1st Qu.: 4.765   QUR    : 18   La Piscine     : 29   1st Qu.:14.00  \n",
       " Median : 6.400   ACSA   : 17   Mr. Robert Pins: 27   Median :17.00  \n",
       " Mean   : 9.195   OSV    : 17   Mme Boucher    : 25   Mean   :20.82  \n",
       " 3rd Qu.:10.505   BEPO   : 16   La Guérite     : 24   3rd Qu.:26.00  \n",
       " Max.   :57.010   FAG    : 16   Metallica      : 24   Max.   :66.00  \n",
       "                  (Other):289   (Other)        :220   NA's   :6      \n",
       "  Tree.Height    julian.date.2011 Branch.Height        SRL        \n",
       " Min.   :170.0   Min.   :171.0    Min.   :1.200   Min.   : 14.18  \n",
       " 1st Qu.:328.5   1st Qu.:186.0    1st Qu.:2.300   1st Qu.: 64.26  \n",
       " Median :404.6   Median :193.0    Median :2.900   Median : 92.01  \n",
       " Mean   :423.4   Mean   :194.4    Mean   :3.044   Mean   :105.80  \n",
       " 3rd Qu.:509.0   3rd Qu.:204.0    3rd Qu.:3.650   3rd Qu.:143.75  \n",
       " Max.   :932.1   Max.   :218.0    Max.   :6.800   Max.   :288.14  \n",
       "                                                  NA's   :242     \n",
       " Root.Wood.Density Twig.branching.angle      Hmax       Shade.Tolerance\n",
       " Min.   :0.2954    Min.   :  0.00       Min.   : 5.00   Min.   :1.210  \n",
       " 1st Qu.:0.5081    1st Qu.: 46.88       1st Qu.:12.00   1st Qu.:1.560  \n",
       " Median :0.5695    Median : 54.95       Median :25.00   Median :2.590  \n",
       " Mean   :0.5684    Mean   : 53.77       Mean   :20.26   Mean   :2.776  \n",
       " 3rd Qu.:0.6401    3rd Qu.: 64.58       3rd Qu.:25.00   3rd Qu.:3.560  \n",
       " Max.   :0.8469    Max.   :102.83       Max.   :35.00   Max.   :4.760  \n",
       " NA's   :196       NA's   :100                          NA's   :37     \n",
       " Drought.Tolerance WaterLogging.Tolerance    DBH.DGH       Leaf.Area.Ratio \n",
       " Min.   :1.50      Min.   :1.000          Min.   :0.2857   Min.   : 32.15  \n",
       " 1st Qu.:1.77      1st Qu.:1.070          1st Qu.:0.6240   1st Qu.:165.33  \n",
       " Median :2.38      Median :1.500          Median :0.6912   Median :243.93  \n",
       " Mean   :2.48      Mean   :1.789          Mean   :0.6766   Mean   :266.39  \n",
       " 3rd Qu.:2.92      3rd Qu.:2.500          3rd Qu.:0.7431   3rd Qu.:349.29  \n",
       " Max.   :4.00      Max.   :3.370          Max.   :0.9714   Max.   :756.66  \n",
       " NA's   :37        NA's   :37                                              \n",
       " Branch.Dry.Mass  Leaf.Thickness    Leaf.Density         C.N       \n",
       " Min.   : 1.061   Min.   :0.0628   Min.   :0.1436   Min.   :10.25  \n",
       " 1st Qu.: 2.979   1st Qu.:0.1082   1st Qu.:0.3089   1st Qu.:15.72  \n",
       " Median : 4.459   Median :0.1278   Median :0.3705   Median :17.72  \n",
       " Mean   : 5.582   Mean   :0.1349   Mean   :0.3792   Mean   :18.28  \n",
       " 3rd Qu.: 6.622   3rd Qu.:0.1510   3rd Qu.:0.4437   3rd Qu.:20.37  \n",
       " Max.   :30.686   Max.   :0.2442   Max.   :0.6932   Max.   :35.22  \n",
       "                                                                   \n",
       "      C.P             N.P                Kl             Kleaf          \n",
       " Min.   :1.159   Min.   :0.05502   Min.   : 154.7   Min.   : 0.005558  \n",
       " 1st Qu.:2.652   1st Qu.:0.15132   1st Qu.: 349.4   1st Qu.: 0.486663  \n",
       " Median :3.248   Median :0.18390   Median : 466.0   Median : 0.933935  \n",
       " Mean   :3.354   Mean   :0.18643   Mean   : 811.5   Mean   : 1.453536  \n",
       " 3rd Qu.:3.983   3rd Qu.:0.21801   3rd Qu.: 730.1   3rd Qu.: 1.638388  \n",
       " Max.   :8.317   Max.   :0.41736   Max.   :4545.4   Max.   :22.465199  \n",
       "                                   NA's   :8        NA's   :8          \n",
       "    Biomass1         pcent.max.Bio1     Total.Transmitted.Light\n",
       " Min.   : 0.000828   Min.   :0.002622   Min.   : 0.630         \n",
       " 1st Qu.: 0.243912   1st Qu.:0.052732   1st Qu.: 2.645         \n",
       " Median : 0.551310   Median :0.132139   Median : 3.820         \n",
       " Mean   : 1.225895   Mean   :0.246967   Mean   : 5.542         \n",
       " 3rd Qu.: 1.290326   3rd Qu.:0.321016   3rd Qu.: 6.140         \n",
       " Max.   :18.152223   Max.   :1.000000   Max.   :36.180         \n",
       " NA's   :11          NA's   :11                                "
      ]
     },
     "metadata": {},
     "output_type": "display_data"
    }
   ],
   "source": [
    "summary(MSH.Raw)"
   ]
  },
  {
   "cell_type": "markdown",
   "metadata": {},
   "source": [
    "Okay, those were way more columns than I anciptaed. Best to ask R which columns have NAs."
   ]
  },
  {
   "cell_type": "code",
   "execution_count": 6,
   "metadata": {},
   "outputs": [
    {
     "data": {
      "text/html": [
       "<ol class=list-inline>\n",
       "\t<li>'t.b2'</li>\n",
       "\t<li>'Ks'</li>\n",
       "\t<li>'Ktwig'</li>\n",
       "\t<li>'Huber.Value'</li>\n",
       "\t<li>'X.Lum'</li>\n",
       "\t<li>'VD'</li>\n",
       "\t<li>'X.Sapwood'</li>\n",
       "\t<li>'Biomass5'</li>\n",
       "\t<li>'pcent.max.Bio5'</li>\n",
       "\t<li>'Symmetric.Competition'</li>\n",
       "\t<li>'Asymmetric.Competition'</li>\n",
       "\t<li>'pH'</li>\n",
       "\t<li>'Organic.C'</li>\n",
       "\t<li>'N'</li>\n",
       "\t<li>'P'</li>\n",
       "\t<li>'K'</li>\n",
       "\t<li>'Ca'</li>\n",
       "\t<li>'Mg'</li>\n",
       "\t<li>'Soil.Depth'</li>\n",
       "\t<li>'Tree.Age'</li>\n",
       "\t<li>'SRL'</li>\n",
       "\t<li>'Root.Wood.Density'</li>\n",
       "\t<li>'Twig.branching.angle'</li>\n",
       "\t<li>'Shade.Tolerance'</li>\n",
       "\t<li>'Drought.Tolerance'</li>\n",
       "\t<li>'WaterLogging.Tolerance'</li>\n",
       "\t<li>'Kl'</li>\n",
       "\t<li>'Kleaf'</li>\n",
       "\t<li>'Biomass1'</li>\n",
       "\t<li>'pcent.max.Bio1'</li>\n",
       "</ol>\n"
      ],
      "text/latex": [
       "\\begin{enumerate*}\n",
       "\\item 't.b2'\n",
       "\\item 'Ks'\n",
       "\\item 'Ktwig'\n",
       "\\item 'Huber.Value'\n",
       "\\item 'X.Lum'\n",
       "\\item 'VD'\n",
       "\\item 'X.Sapwood'\n",
       "\\item 'Biomass5'\n",
       "\\item 'pcent.max.Bio5'\n",
       "\\item 'Symmetric.Competition'\n",
       "\\item 'Asymmetric.Competition'\n",
       "\\item 'pH'\n",
       "\\item 'Organic.C'\n",
       "\\item 'N'\n",
       "\\item 'P'\n",
       "\\item 'K'\n",
       "\\item 'Ca'\n",
       "\\item 'Mg'\n",
       "\\item 'Soil.Depth'\n",
       "\\item 'Tree.Age'\n",
       "\\item 'SRL'\n",
       "\\item 'Root.Wood.Density'\n",
       "\\item 'Twig.branching.angle'\n",
       "\\item 'Shade.Tolerance'\n",
       "\\item 'Drought.Tolerance'\n",
       "\\item 'WaterLogging.Tolerance'\n",
       "\\item 'Kl'\n",
       "\\item 'Kleaf'\n",
       "\\item 'Biomass1'\n",
       "\\item 'pcent.max.Bio1'\n",
       "\\end{enumerate*}\n"
      ],
      "text/markdown": [
       "1. 't.b2'\n",
       "2. 'Ks'\n",
       "3. 'Ktwig'\n",
       "4. 'Huber.Value'\n",
       "5. 'X.Lum'\n",
       "6. 'VD'\n",
       "7. 'X.Sapwood'\n",
       "8. 'Biomass5'\n",
       "9. 'pcent.max.Bio5'\n",
       "10. 'Symmetric.Competition'\n",
       "11. 'Asymmetric.Competition'\n",
       "12. 'pH'\n",
       "13. 'Organic.C'\n",
       "14. 'N'\n",
       "15. 'P'\n",
       "16. 'K'\n",
       "17. 'Ca'\n",
       "18. 'Mg'\n",
       "19. 'Soil.Depth'\n",
       "20. 'Tree.Age'\n",
       "21. 'SRL'\n",
       "22. 'Root.Wood.Density'\n",
       "23. 'Twig.branching.angle'\n",
       "24. 'Shade.Tolerance'\n",
       "25. 'Drought.Tolerance'\n",
       "26. 'WaterLogging.Tolerance'\n",
       "27. 'Kl'\n",
       "28. 'Kleaf'\n",
       "29. 'Biomass1'\n",
       "30. 'pcent.max.Bio1'\n",
       "\n",
       "\n"
      ],
      "text/plain": [
       " [1] \"t.b2\"                   \"Ks\"                     \"Ktwig\"                 \n",
       " [4] \"Huber.Value\"            \"X.Lum\"                  \"VD\"                    \n",
       " [7] \"X.Sapwood\"              \"Biomass5\"               \"pcent.max.Bio5\"        \n",
       "[10] \"Symmetric.Competition\"  \"Asymmetric.Competition\" \"pH\"                    \n",
       "[13] \"Organic.C\"              \"N\"                      \"P\"                     \n",
       "[16] \"K\"                      \"Ca\"                     \"Mg\"                    \n",
       "[19] \"Soil.Depth\"             \"Tree.Age\"               \"SRL\"                   \n",
       "[22] \"Root.Wood.Density\"      \"Twig.branching.angle\"   \"Shade.Tolerance\"       \n",
       "[25] \"Drought.Tolerance\"      \"WaterLogging.Tolerance\" \"Kl\"                    \n",
       "[28] \"Kleaf\"                  \"Biomass1\"               \"pcent.max.Bio1\"        "
      ]
     },
     "metadata": {},
     "output_type": "display_data"
    }
   ],
   "source": [
    "names(which(apply(MSH.Raw, 2, anyNA)))"
   ]
  },
  {
   "cell_type": "code",
   "execution_count": 7,
   "metadata": {},
   "outputs": [
    {
     "data": {
      "text/html": [
       "30"
      ],
      "text/latex": [
       "30"
      ],
      "text/markdown": [
       "30"
      ],
      "text/plain": [
       "[1] 30"
      ]
     },
     "metadata": {},
     "output_type": "display_data"
    }
   ],
   "source": [
    "length(names(which(apply(MSH.Raw, 2, anyNA))))"
   ]
  },
  {
   "cell_type": "code",
   "execution_count": 8,
   "metadata": {},
   "outputs": [
    {
     "data": {
      "text/html": [
       "70"
      ],
      "text/latex": [
       "70"
      ],
      "text/markdown": [
       "70"
      ],
      "text/plain": [
       "[1] 70"
      ]
     },
     "metadata": {},
     "output_type": "display_data"
    }
   ],
   "source": [
    "# not sure how many columns there are in the first place. is that alot?\n",
    "ncol(MSH.Raw)"
   ]
  },
  {
   "cell_type": "markdown",
   "metadata": {},
   "source": [
    "So, 30/70 columns have NAs. That's ~43%. I may have to do some imputation to fill in those NAs. There are numerous packages I can use for this step, but a paper I read (Handling missing values: A study of popular imputation packages in R) recommends VIM. The authors argue that VIM seems to have higher accuracy and does better with smaller datasets (n<15000). I can use 1 of four methods in VIM (https://core.ac.uk/download/pdf/156957839.pdf). I will do some reading on which of the four I should use over the weekend. "
   ]
  },
  {
   "cell_type": "code",
   "execution_count": 10,
   "metadata": {},
   "outputs": [
    {
     "data": {
      "text/html": [
       "<ol class=list-inline>\n",
       "\t<li>'BA.0.2006'</li>\n",
       "\t<li>'BA.0.2007'</li>\n",
       "\t<li>'BA.0.2008'</li>\n",
       "\t<li>'BA.0.2009'</li>\n",
       "\t<li>'BA.0.2010'</li>\n",
       "\t<li>'BA.0.2011'</li>\n",
       "</ol>\n"
      ],
      "text/latex": [
       "\\begin{enumerate*}\n",
       "\\item 'BA.0.2006'\n",
       "\\item 'BA.0.2007'\n",
       "\\item 'BA.0.2008'\n",
       "\\item 'BA.0.2009'\n",
       "\\item 'BA.0.2010'\n",
       "\\item 'BA.0.2011'\n",
       "\\end{enumerate*}\n"
      ],
      "text/markdown": [
       "1. 'BA.0.2006'\n",
       "2. 'BA.0.2007'\n",
       "3. 'BA.0.2008'\n",
       "4. 'BA.0.2009'\n",
       "5. 'BA.0.2010'\n",
       "6. 'BA.0.2011'\n",
       "\n",
       "\n"
      ],
      "text/plain": [
       "[1] \"BA.0.2006\" \"BA.0.2007\" \"BA.0.2008\" \"BA.0.2009\" \"BA.0.2010\" \"BA.0.2011\""
      ]
     },
     "metadata": {},
     "output_type": "display_data"
    }
   ],
   "source": [
    "names(which(apply(RGR.Raw, 2, anyNA)))"
   ]
  }
 ],
 "metadata": {
  "kernelspec": {
   "display_name": "R",
   "language": "R",
   "name": "ir"
  },
  "language_info": {
   "codemirror_mode": "r",
   "file_extension": ".r",
   "mimetype": "text/x-r-source",
   "name": "R",
   "pygments_lexer": "r",
   "version": "3.6.1"
  }
 },
 "nbformat": 4,
 "nbformat_minor": 4
}
